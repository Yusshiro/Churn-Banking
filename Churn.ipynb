{
 "cells": [
  {
   "cell_type": "code",
   "id": "initial_id",
   "metadata": {
    "collapsed": true,
    "ExecuteTime": {
     "end_time": "2024-10-31T07:10:52.548083Z",
     "start_time": "2024-10-31T07:10:52.128403Z"
    }
   },
   "source": [
    "import numpy as np\n",
    "import pandas as pd\n",
    "\n",
    "# Đọc dữ liệu từ tệp CSV\n",
    "data = pd.read_csv(\"botswana_bank_customer_churn.csv\")\n",
    "\n",
    "# Thông tin cơ bản về dữ liệu\n",
    "print(data.info())\n",
    "print(data.describe())\n",
    "print(data.head())"
   ],
   "outputs": [
    {
     "name": "stdout",
     "output_type": "stream",
     "text": [
      "<class 'pandas.core.frame.DataFrame'>\n",
      "RangeIndex: 115640 entries, 0 to 115639\n",
      "Data columns (total 25 columns):\n",
      " #   Column                           Non-Null Count   Dtype  \n",
      "---  ------                           --------------   -----  \n",
      " 0   RowNumber                        115640 non-null  int64  \n",
      " 1   CustomerId                       115640 non-null  object \n",
      " 2   Surname                          115640 non-null  object \n",
      " 3   First Name                       115640 non-null  object \n",
      " 4   Date of Birth                    115640 non-null  object \n",
      " 5   Gender                           115640 non-null  object \n",
      " 6   Marital Status                   115640 non-null  object \n",
      " 7   Number of Dependents             115640 non-null  int64  \n",
      " 8   Occupation                       115640 non-null  object \n",
      " 9   Income                           115640 non-null  float64\n",
      " 10  Education Level                  115640 non-null  object \n",
      " 11  Address                          115640 non-null  object \n",
      " 12  Contact Information              115640 non-null  object \n",
      " 13  Customer Tenure                  115640 non-null  int64  \n",
      " 14  Customer Segment                 115640 non-null  object \n",
      " 15  Preferred Communication Channel  115640 non-null  object \n",
      " 16  Credit Score                     115640 non-null  int64  \n",
      " 17  Credit History Length            115640 non-null  int64  \n",
      " 18  Outstanding Loans                115640 non-null  float64\n",
      " 19  Churn Flag                       115640 non-null  int64  \n",
      " 20  Churn Reason                     14094 non-null   object \n",
      " 21  Churn Date                       14094 non-null   object \n",
      " 22  Balance                          115640 non-null  float64\n",
      " 23  NumOfProducts                    115640 non-null  int64  \n",
      " 24  NumComplaints                    115640 non-null  int64  \n",
      "dtypes: float64(3), int64(8), object(14)\n",
      "memory usage: 22.1+ MB\n",
      "None\n",
      "           RowNumber  Number of Dependents         Income  Customer Tenure  \\\n",
      "count  115640.000000         115640.000000  115640.000000    115640.000000   \n",
      "mean    57820.500000              2.502923   52641.363046        15.490591   \n",
      "std     33382.536902              1.707249   27429.756390         8.654217   \n",
      "min         1.000000              0.000000    5000.960000         1.000000   \n",
      "25%     28910.750000              1.000000   28857.070000         8.000000   \n",
      "50%     57820.500000              3.000000   52658.110000        15.000000   \n",
      "75%     86730.250000              4.000000   76364.157500        23.000000   \n",
      "max    115640.000000              5.000000   99999.510000        30.000000   \n",
      "\n",
      "        Credit Score  Credit History Length  Outstanding Loans     Churn Flag  \\\n",
      "count  115640.000000          115640.000000      115640.000000  115640.000000   \n",
      "mean      574.299775              15.546602       25502.731792       0.121878   \n",
      "std       159.067499               8.654630       14127.859827       0.327147   \n",
      "min       300.000000               1.000000        1000.430000       0.000000   \n",
      "25%       436.000000               8.000000       13226.060000       0.000000   \n",
      "50%       574.000000              16.000000       25505.285000       0.000000   \n",
      "75%       712.000000              23.000000       37742.250000       0.000000   \n",
      "max       850.000000              30.000000       49999.690000       1.000000   \n",
      "\n",
      "             Balance  NumOfProducts  NumComplaints  \n",
      "count  115640.000000  115640.000000  115640.000000  \n",
      "mean   124639.209748       2.999274       4.991724  \n",
      "std     72210.476638       1.411361       3.159283  \n",
      "min         1.060000       1.000000       0.000000  \n",
      "25%     61991.915000       2.000000       2.000000  \n",
      "50%    124505.890000       3.000000       5.000000  \n",
      "75%    187122.922500       4.000000       8.000000  \n",
      "max    249998.910000       5.000000      10.000000  \n",
      "   RowNumber                            CustomerId   Surname First Name  \\\n",
      "0          1  83ef0b54-35f6-4f84-af58-5653ac0c0dc4     Smith       Troy   \n",
      "1          2  009f115a-e5ca-4cf4-97d6-530140545e4e  Sullivan    Katrina   \n",
      "2          3  66309fd3-5009-44d3-a3f7-1657c869d573    Fuller      Henry   \n",
      "3          4  b02a30df-1a5f-4087-8075-2a35432da641     Young    Antonio   \n",
      "4          5  0d932e5b-bb3a-4104-8c83-f84270f7f2ea  Andersen       John   \n",
      "\n",
      "  Date of Birth  Gender Marital Status  Number of Dependents  \\\n",
      "0     8/29/1987    Male       Divorced                     3   \n",
      "1      2/7/2000  Female        Married                     1   \n",
      "2      2/3/1954  Female         Single                     1   \n",
      "3     1/15/1991  Female       Divorced                     5   \n",
      "4      4/8/1992  Female       Divorced                     2   \n",
      "\n",
      "                        Occupation    Income  ...  \\\n",
      "0      Information systems manager  77710.14  ...   \n",
      "1               Charity fundraiser  58209.87  ...   \n",
      "2  Television production assistant   9794.01  ...   \n",
      "3            Agricultural engineer  15088.98  ...   \n",
      "4         Teacher, early years/pre  60726.56  ...   \n",
      "\n",
      "  Preferred Communication Channel Credit Score Credit History Length  \\\n",
      "0                           Phone          397                    24   \n",
      "1                           Email          665                    10   \n",
      "2                           Email          715                    21   \n",
      "3                           Phone          747                    17   \n",
      "4                           Email          549                    25   \n",
      "\n",
      "   Outstanding Loans Churn Flag Churn Reason  Churn Date    Balance  \\\n",
      "0           41959.74          0          NaN         NaN  211359.05   \n",
      "1            8916.67          0          NaN         NaN   30624.76   \n",
      "2           43270.54          0          NaN         NaN  111956.61   \n",
      "3           17887.65          0          NaN         NaN  201187.61   \n",
      "4           32686.84          0          NaN         NaN   60391.24   \n",
      "\n",
      "   NumOfProducts  NumComplaints  \n",
      "0              1              0  \n",
      "1              4              1  \n",
      "2              2              6  \n",
      "3              1              0  \n",
      "4              5              6  \n",
      "\n",
      "[5 rows x 25 columns]\n"
     ]
    }
   ],
   "execution_count": 3
  },
  {
   "metadata": {
    "ExecuteTime": {
     "end_time": "2024-10-31T07:14:48.873645Z",
     "start_time": "2024-10-31T07:14:48.815974Z"
    }
   },
   "cell_type": "code",
   "source": [
    "#Lọc cột không cần thiết\n",
    "#Các cột không cần thiết bao gồm RowNumber, CustomerId, Surname, First Name, Date of Birth, Address, Contact Information, Churn Reason, và Churn Date\n",
    "\n",
    "filtered_data = data.drop(columns=[\n",
    "    'RowNumber', 'CustomerId', 'Surname', 'First Name', \n",
    "    'Date of Birth', 'Address', 'Contact Information', \n",
    "    'Churn Reason', 'Churn Date'\n",
    "])\n",
    "\n",
    "# Kiểm tra lại xem có dữ liệu bị thiếu không\n",
    "print(filtered_data.isnull().sum())"
   ],
   "id": "6039cf9111569f1b",
   "outputs": [
    {
     "name": "stdout",
     "output_type": "stream",
     "text": [
      "Gender                             0\n",
      "Marital Status                     0\n",
      "Number of Dependents               0\n",
      "Occupation                         0\n",
      "Income                             0\n",
      "Education Level                    0\n",
      "Customer Tenure                    0\n",
      "Customer Segment                   0\n",
      "Preferred Communication Channel    0\n",
      "Credit Score                       0\n",
      "Credit History Length              0\n",
      "Outstanding Loans                  0\n",
      "Churn Flag                         0\n",
      "Balance                            0\n",
      "NumOfProducts                      0\n",
      "NumComplaints                      0\n",
      "dtype: int64\n"
     ]
    }
   ],
   "execution_count": 5
  },
  {
   "metadata": {},
   "cell_type": "markdown",
   "source": " Ta thấy dữ liệu bị thiếu chỉ có ở các cột Churn Reason và Churn Date, nên khi loại bỏ các cột này, dữ liệu không còn thiếu.",
   "id": "fb85d9e336eee453"
  }
 ],
 "metadata": {
  "kernelspec": {
   "display_name": "Python 3",
   "language": "python",
   "name": "python3"
  },
  "language_info": {
   "codemirror_mode": {
    "name": "ipython",
    "version": 2
   },
   "file_extension": ".py",
   "mimetype": "text/x-python",
   "name": "python",
   "nbconvert_exporter": "python",
   "pygments_lexer": "ipython2",
   "version": "2.7.6"
  }
 },
 "nbformat": 4,
 "nbformat_minor": 5
}
