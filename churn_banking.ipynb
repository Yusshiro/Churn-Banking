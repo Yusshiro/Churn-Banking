{
 "cells": [
  {
   "cell_type": "code",
   "id": "initial_id",
   "metadata": {
    "collapsed": true,
    "ExecuteTime": {
     "end_time": "2024-12-14T16:44:57.043431Z",
     "start_time": "2024-12-14T16:44:56.650456Z"
    }
   },
   "source": [
    "from sklearn.decomposition import PCA\n",
    "from sklearn.preprocessing import StandardScaler\n",
    "import numpy as np\n",
    "from tabulate import tabulate\n",
    "import pandas as pd\n",
    "from matplotlib import pyplot as plt\n",
    "import seaborn as sns\n",
    "# Đọc dữ liệu từ tệp CSV\n",
    "df = pd.read_csv(\"botswana_bank_customer_churn.csv\")"
   ],
   "outputs": [],
   "execution_count": 77
  },
  {
   "metadata": {},
   "cell_type": "markdown",
   "source": "# Thông tin cơ bản về dữ liệu",
   "id": "1f451f0ad8fe25d3"
  },
  {
   "metadata": {
    "ExecuteTime": {
     "end_time": "2024-12-14T16:44:57.207185Z",
     "start_time": "2024-12-14T16:44:57.168381Z"
    }
   },
   "cell_type": "code",
   "source": "print(df.info())",
   "id": "6f5e6415c05c70ad",
   "outputs": [
    {
     "name": "stdout",
     "output_type": "stream",
     "text": [
      "<class 'pandas.core.frame.DataFrame'>\n",
      "RangeIndex: 115640 entries, 0 to 115639\n",
      "Data columns (total 25 columns):\n",
      " #   Column                           Non-Null Count   Dtype  \n",
      "---  ------                           --------------   -----  \n",
      " 0   RowNumber                        115640 non-null  int64  \n",
      " 1   CustomerId                       115640 non-null  object \n",
      " 2   Surname                          115640 non-null  object \n",
      " 3   First Name                       115640 non-null  object \n",
      " 4   Date of Birth                    115640 non-null  object \n",
      " 5   Gender                           115640 non-null  object \n",
      " 6   Marital Status                   115640 non-null  object \n",
      " 7   Number of Dependents             115640 non-null  int64  \n",
      " 8   Occupation                       115640 non-null  object \n",
      " 9   Income                           115640 non-null  float64\n",
      " 10  Education Level                  115640 non-null  object \n",
      " 11  Address                          115640 non-null  object \n",
      " 12  Contact Information              115640 non-null  object \n",
      " 13  Customer Tenure                  115640 non-null  int64  \n",
      " 14  Customer Segment                 115640 non-null  object \n",
      " 15  Preferred Communication Channel  115640 non-null  object \n",
      " 16  Credit Score                     115640 non-null  int64  \n",
      " 17  Credit History Length            115640 non-null  int64  \n",
      " 18  Outstanding Loans                115640 non-null  float64\n",
      " 19  Churn Flag                       115640 non-null  int64  \n",
      " 20  Churn Reason                     14094 non-null   object \n",
      " 21  Churn Date                       14094 non-null   object \n",
      " 22  Balance                          115640 non-null  float64\n",
      " 23  NumOfProducts                    115640 non-null  int64  \n",
      " 24  NumComplaints                    115640 non-null  int64  \n",
      "dtypes: float64(3), int64(8), object(14)\n",
      "memory usage: 22.1+ MB\n",
      "None\n"
     ]
    }
   ],
   "execution_count": 78
  },
  {
   "metadata": {
    "ExecuteTime": {
     "end_time": "2024-12-14T16:44:57.381867Z",
     "start_time": "2024-12-14T16:44:57.347255Z"
    }
   },
   "cell_type": "code",
   "source": "df.isnull().sum()",
   "id": "296284009040a394",
   "outputs": [
    {
     "data": {
      "text/plain": [
       "RowNumber                               0\n",
       "CustomerId                              0\n",
       "Surname                                 0\n",
       "First Name                              0\n",
       "Date of Birth                           0\n",
       "Gender                                  0\n",
       "Marital Status                          0\n",
       "Number of Dependents                    0\n",
       "Occupation                              0\n",
       "Income                                  0\n",
       "Education Level                         0\n",
       "Address                                 0\n",
       "Contact Information                     0\n",
       "Customer Tenure                         0\n",
       "Customer Segment                        0\n",
       "Preferred Communication Channel         0\n",
       "Credit Score                            0\n",
       "Credit History Length                   0\n",
       "Outstanding Loans                       0\n",
       "Churn Flag                              0\n",
       "Churn Reason                       101546\n",
       "Churn Date                         101546\n",
       "Balance                                 0\n",
       "NumOfProducts                           0\n",
       "NumComplaints                           0\n",
       "dtype: int64"
      ]
     },
     "execution_count": 79,
     "metadata": {},
     "output_type": "execute_result"
    }
   ],
   "execution_count": 79
  },
  {
   "metadata": {
    "ExecuteTime": {
     "end_time": "2024-12-14T16:44:57.443258Z",
     "start_time": "2024-12-14T16:44:57.403742Z"
    }
   },
   "cell_type": "code",
   "source": "print(df.describe())",
   "id": "b1e3c4e3d834039a",
   "outputs": [
    {
     "name": "stdout",
     "output_type": "stream",
     "text": [
      "           RowNumber  Number of Dependents         Income  Customer Tenure  \\\n",
      "count  115640.000000         115640.000000  115640.000000    115640.000000   \n",
      "mean    57820.500000              2.502923   52641.363046        15.490591   \n",
      "std     33382.536902              1.707249   27429.756390         8.654217   \n",
      "min         1.000000              0.000000    5000.960000         1.000000   \n",
      "25%     28910.750000              1.000000   28857.070000         8.000000   \n",
      "50%     57820.500000              3.000000   52658.110000        15.000000   \n",
      "75%     86730.250000              4.000000   76364.157500        23.000000   \n",
      "max    115640.000000              5.000000   99999.510000        30.000000   \n",
      "\n",
      "        Credit Score  Credit History Length  Outstanding Loans     Churn Flag  \\\n",
      "count  115640.000000          115640.000000      115640.000000  115640.000000   \n",
      "mean      574.299775              15.546602       25502.731792       0.121878   \n",
      "std       159.067499               8.654630       14127.859827       0.327147   \n",
      "min       300.000000               1.000000        1000.430000       0.000000   \n",
      "25%       436.000000               8.000000       13226.060000       0.000000   \n",
      "50%       574.000000              16.000000       25505.285000       0.000000   \n",
      "75%       712.000000              23.000000       37742.250000       0.000000   \n",
      "max       850.000000              30.000000       49999.690000       1.000000   \n",
      "\n",
      "             Balance  NumOfProducts  NumComplaints  \n",
      "count  115640.000000  115640.000000  115640.000000  \n",
      "mean   124639.209748       2.999274       4.991724  \n",
      "std     72210.476638       1.411361       3.159283  \n",
      "min         1.060000       1.000000       0.000000  \n",
      "25%     61991.915000       2.000000       2.000000  \n",
      "50%    124505.890000       3.000000       5.000000  \n",
      "75%    187122.922500       4.000000       8.000000  \n",
      "max    249998.910000       5.000000      10.000000  \n"
     ]
    }
   ],
   "execution_count": 80
  },
  {
   "metadata": {},
   "cell_type": "markdown",
   "source": "# Tiền xử lí dữ liệu",
   "id": "331d56ec6556aff5"
  },
  {
   "metadata": {
    "ExecuteTime": {
     "end_time": "2024-12-14T16:44:57.558414Z",
     "start_time": "2024-12-14T16:44:57.543426Z"
    }
   },
   "cell_type": "code",
   "source": [
    "#Lọc cột không cần thiết\n",
    "#Các cột không cần thiết bao gồm RowNumber, CustomerId, Surname, First Name, Date of Birth, Address, Contact Information, Churn Reason, và Churn Date\n",
    "\n",
    "columns_to_drop = [\n",
    "    'RowNumber', 'CustomerId', 'Surname', 'First Name', \n",
    "    'Occupation', 'Address', 'Contact Information', \n",
    "    'Churn Reason', 'Churn Date'\n",
    "]\n",
    "\n",
    "# Lọc cột không cần thiết nếu chúng tồn tại trong DataFrame\n",
    "filtered_data = df.drop(columns=[col for col in columns_to_drop if col in df.columns])\n",
    "\n",
    "# Kiểm tra kết quả sau khi lọc\n",
    "print(filtered_data.head())  # In ra 5 dòng đầu của dữ liệu đã được lọc\n",
    "print(filtered_data.columns)  # In ra danh sách các cột còn lại trong dữ liệu\n"
   ],
   "id": "c2d736f36a666b14",
   "outputs": [
    {
     "name": "stdout",
     "output_type": "stream",
     "text": [
      "  Date of Birth  Gender Marital Status  Number of Dependents    Income  \\\n",
      "0     8/29/1987    Male       Divorced                     3  77710.14   \n",
      "1      2/7/2000  Female        Married                     1  58209.87   \n",
      "2      2/3/1954  Female         Single                     1   9794.01   \n",
      "3     1/15/1991  Female       Divorced                     5  15088.98   \n",
      "4      4/8/1992  Female       Divorced                     2  60726.56   \n",
      "\n",
      "  Education Level  Customer Tenure Customer Segment  \\\n",
      "0     High School               30           Retail   \n",
      "1     High School               27              SME   \n",
      "2     High School               14           Retail   \n",
      "3     High School               23        Corporate   \n",
      "4        Master's               22        Corporate   \n",
      "\n",
      "  Preferred Communication Channel  Credit Score  Credit History Length  \\\n",
      "0                           Phone           397                     24   \n",
      "1                           Email           665                     10   \n",
      "2                           Email           715                     21   \n",
      "3                           Phone           747                     17   \n",
      "4                           Email           549                     25   \n",
      "\n",
      "   Outstanding Loans  Churn Flag    Balance  NumOfProducts  NumComplaints  \n",
      "0           41959.74           0  211359.05              1              0  \n",
      "1            8916.67           0   30624.76              4              1  \n",
      "2           43270.54           0  111956.61              2              6  \n",
      "3           17887.65           0  201187.61              1              0  \n",
      "4           32686.84           0   60391.24              5              6  \n",
      "Index(['Date of Birth', 'Gender', 'Marital Status', 'Number of Dependents',\n",
      "       'Income', 'Education Level', 'Customer Tenure', 'Customer Segment',\n",
      "       'Preferred Communication Channel', 'Credit Score',\n",
      "       'Credit History Length', 'Outstanding Loans', 'Churn Flag', 'Balance',\n",
      "       'NumOfProducts', 'NumComplaints'],\n",
      "      dtype='object')\n"
     ]
    }
   ],
   "execution_count": 81
  },
  {
   "metadata": {
    "ExecuteTime": {
     "end_time": "2024-12-14T16:44:58.041031Z",
     "start_time": "2024-12-14T16:44:57.823167Z"
    }
   },
   "cell_type": "code",
   "source": [
    "# Xử lý ngày sinh và tính tuổi\n",
    "from datetime import datetime\n",
    "import pandas as pd\n",
    "\n",
    "# Chuyển đổi cột 'Date of Birth' thành datetime, nếu có lỗi thì sẽ gán NaT\n",
    "filtered_data['Date of Birth'] = pd.to_datetime(filtered_data['Date of Birth'], errors='coerce')\n",
    "\n",
    "# Tính tuổi dựa trên ngày sinh và thay thế cột 'Date of Birth' bằng cột 'age'\n",
    "filtered_data['age'] = (pd.to_datetime('today') - filtered_data['Date of Birth']).dt.days // 365\n",
    "\n",
    "# loại bỏ cột 'Date of Birth' và chỉ giữ lại tuổi\n",
    "filtered_data = filtered_data.drop(columns=['Date of Birth'])"
   ],
   "id": "dc4008ce50b1c16b",
   "outputs": [],
   "execution_count": 82
  },
  {
   "metadata": {
    "ExecuteTime": {
     "end_time": "2024-12-14T16:44:58.201466Z",
     "start_time": "2024-12-14T16:44:58.176824Z"
    }
   },
   "cell_type": "code",
   "source": [
    "# Duyệt qua các cột phân loại (object)\n",
    "for col in filtered_data.columns:\n",
    "    if filtered_data[col].dtype == 'object':\n",
    "        # Tính giá trị đếm\n",
    "        value_counts = filtered_data[col].value_counts().sort_values(ascending=False)\n",
    "        \n",
    "        # Chuyển kết quả value_counts thành bảng\n",
    "        print(f\"Value counts for {col}:\")\n",
    "        print(tabulate(value_counts.reset_index(), headers=[\"Value\", \"Count\"], tablefmt=\"fancy_grid\"))\n",
    "        print(\"\\n\" + \"=\"*50 + \"\\n\")"
   ],
   "id": "7ff3eeaafc26e03e",
   "outputs": [
    {
     "name": "stdout",
     "output_type": "stream",
     "text": [
      "Value counts for Gender:\n",
      "╒════╤═════════╤═════════╕\n",
      "│    │ Value   │   Count │\n",
      "╞════╪═════════╪═════════╡\n",
      "│  0 │ Female  │   57830 │\n",
      "├────┼─────────┼─────────┤\n",
      "│  1 │ Male    │   57810 │\n",
      "╘════╧═════════╧═════════╛\n",
      "\n",
      "==================================================\n",
      "\n",
      "Value counts for Marital Status:\n",
      "╒════╤══════════╤═════════╕\n",
      "│    │ Value    │   Count │\n",
      "╞════╪══════════╪═════════╡\n",
      "│  0 │ Single   │   38684 │\n",
      "├────┼──────────┼─────────┤\n",
      "│  1 │ Divorced │   38539 │\n",
      "├────┼──────────┼─────────┤\n",
      "│  2 │ Married  │   38417 │\n",
      "╘════╧══════════╧═════════╛\n",
      "\n",
      "==================================================\n",
      "\n",
      "Value counts for Education Level:\n",
      "╒════╤═════════════╤═════════╕\n",
      "│    │ Value       │   Count │\n",
      "╞════╪═════════════╪═════════╡\n",
      "│  0 │ Master's    │   28970 │\n",
      "├────┼─────────────┼─────────┤\n",
      "│  1 │ Diploma     │   28950 │\n",
      "├────┼─────────────┼─────────┤\n",
      "│  2 │ High School │   28868 │\n",
      "├────┼─────────────┼─────────┤\n",
      "│  3 │ Bachelor's  │   28852 │\n",
      "╘════╧═════════════╧═════════╛\n",
      "\n",
      "==================================================\n",
      "\n",
      "Value counts for Customer Segment:\n",
      "╒════╤═══════════╤═════════╕\n",
      "│    │ Value     │   Count │\n",
      "╞════╪═══════════╪═════════╡\n",
      "│  0 │ SME       │   38903 │\n",
      "├────┼───────────┼─────────┤\n",
      "│  1 │ Corporate │   38606 │\n",
      "├────┼───────────┼─────────┤\n",
      "│  2 │ Retail    │   38131 │\n",
      "╘════╧═══════════╧═════════╛\n",
      "\n",
      "==================================================\n",
      "\n",
      "Value counts for Preferred Communication Channel:\n",
      "╒════╤═════════╤═════════╕\n",
      "│    │ Value   │   Count │\n",
      "╞════╪═════════╪═════════╡\n",
      "│  0 │ Email   │   58044 │\n",
      "├────┼─────────┼─────────┤\n",
      "│  1 │ Phone   │   57596 │\n",
      "╘════╧═════════╧═════════╛\n",
      "\n",
      "==================================================\n",
      "\n"
     ]
    }
   ],
   "execution_count": 83
  },
  {
   "metadata": {
    "ExecuteTime": {
     "end_time": "2024-12-14T16:44:58.393421Z",
     "start_time": "2024-12-14T16:44:58.341221Z"
    }
   },
   "cell_type": "code",
   "source": [
    "# Mã hóa nhị phân các cột phân loại với 2 giá trị\n",
    "filtered_data['Gender'] = filtered_data['Gender'].map({'Female': 1, 'Male': 0})\n",
    "filtered_data['Preferred Communication Channel'] = filtered_data['Preferred Communication Channel'].map({'Email': 1, 'Phone': 0})\n",
    "\n",
    "# Mã hóa các cột phân loại với nhiều giá trị và thay thế các cột cũ\n",
    "filtered_data = pd.get_dummies(filtered_data, columns=['Marital Status', 'Education Level', 'Customer Segment'], drop_first=True)\n",
    "filtered_data = filtered_data.astype({col: int for col in filtered_data.select_dtypes(include=['bool']).columns})\n",
    "\n",
    "# Kiểm tra kết quả sau khi mã hóa\n",
    "print(filtered_data.head())"
   ],
   "id": "e1a9528d01e556db",
   "outputs": [
    {
     "name": "stdout",
     "output_type": "stream",
     "text": [
      "   Gender  Number of Dependents    Income  Customer Tenure  \\\n",
      "0       0                     3  77710.14               30   \n",
      "1       1                     1  58209.87               27   \n",
      "2       1                     1   9794.01               14   \n",
      "3       1                     5  15088.98               23   \n",
      "4       1                     2  60726.56               22   \n",
      "\n",
      "   Preferred Communication Channel  Credit Score  Credit History Length  \\\n",
      "0                                0           397                     24   \n",
      "1                                1           665                     10   \n",
      "2                                1           715                     21   \n",
      "3                                0           747                     17   \n",
      "4                                1           549                     25   \n",
      "\n",
      "   Outstanding Loans  Churn Flag    Balance  NumOfProducts  NumComplaints  \\\n",
      "0           41959.74           0  211359.05              1              0   \n",
      "1            8916.67           0   30624.76              4              1   \n",
      "2           43270.54           0  111956.61              2              6   \n",
      "3           17887.65           0  201187.61              1              0   \n",
      "4           32686.84           0   60391.24              5              6   \n",
      "\n",
      "   age  Marital Status_Married  Marital Status_Single  \\\n",
      "0   37                       0                      0   \n",
      "1   24                       1                      0   \n",
      "2   70                       0                      1   \n",
      "3   33                       0                      0   \n",
      "4   32                       0                      0   \n",
      "\n",
      "   Education Level_Diploma  Education Level_High School  \\\n",
      "0                        0                            1   \n",
      "1                        0                            1   \n",
      "2                        0                            1   \n",
      "3                        0                            1   \n",
      "4                        0                            0   \n",
      "\n",
      "   Education Level_Master's  Customer Segment_Retail  Customer Segment_SME  \n",
      "0                         0                        1                     0  \n",
      "1                         0                        0                     1  \n",
      "2                         0                        1                     0  \n",
      "3                         0                        0                     0  \n",
      "4                         1                        0                     0  \n"
     ]
    }
   ],
   "execution_count": 84
  },
  {
   "metadata": {
    "ExecuteTime": {
     "end_time": "2024-12-14T16:44:58.542189Z",
     "start_time": "2024-12-14T16:44:58.531988Z"
    }
   },
   "cell_type": "code",
   "source": [
    "# Chuẩn bị dữ liệu\n",
    "X = filtered_data.drop(['Churn Flag'], axis=1)\n",
    "y = filtered_data['Churn Flag']"
   ],
   "id": "d1e26bceecb5035b",
   "outputs": [],
   "execution_count": 85
  },
  {
   "metadata": {
    "ExecuteTime": {
     "end_time": "2024-12-14T16:44:58.736923Z",
     "start_time": "2024-12-14T16:44:58.670998Z"
    }
   },
   "cell_type": "code",
   "source": [
    "# Phân tích thống kê cơ bản của dữ liệu\n",
    "X.describe()\n"
   ],
   "id": "1c8eb29041cb6e6a",
   "outputs": [
    {
     "data": {
      "text/plain": [
       "              Gender  Number of Dependents         Income  Customer Tenure  \\\n",
       "count  115640.000000         115640.000000  115640.000000    115640.000000   \n",
       "mean        0.500086              2.502923   52641.363046        15.490591   \n",
       "std         0.500002              1.707249   27429.756390         8.654217   \n",
       "min         0.000000              0.000000    5000.960000         1.000000   \n",
       "25%         0.000000              1.000000   28857.070000         8.000000   \n",
       "50%         1.000000              3.000000   52658.110000        15.000000   \n",
       "75%         1.000000              4.000000   76364.157500        23.000000   \n",
       "max         1.000000              5.000000   99999.510000        30.000000   \n",
       "\n",
       "       Preferred Communication Channel   Credit Score  Credit History Length  \\\n",
       "count                    115640.000000  115640.000000          115640.000000   \n",
       "mean                          0.501937     574.299775              15.546602   \n",
       "std                           0.499998     159.067499               8.654630   \n",
       "min                           0.000000     300.000000               1.000000   \n",
       "25%                           0.000000     436.000000               8.000000   \n",
       "50%                           1.000000     574.000000              16.000000   \n",
       "75%                           1.000000     712.000000              23.000000   \n",
       "max                           1.000000     850.000000              30.000000   \n",
       "\n",
       "       Outstanding Loans        Balance  NumOfProducts  NumComplaints  \\\n",
       "count      115640.000000  115640.000000  115640.000000  115640.000000   \n",
       "mean        25502.731792  124639.209748       2.999274       4.991724   \n",
       "std         14127.859827   72210.476638       1.411361       3.159283   \n",
       "min          1000.430000       1.060000       1.000000       0.000000   \n",
       "25%         13226.060000   61991.915000       2.000000       2.000000   \n",
       "50%         25505.285000  124505.890000       3.000000       5.000000   \n",
       "75%         37742.250000  187122.922500       4.000000       8.000000   \n",
       "max         49999.690000  249998.910000       5.000000      10.000000   \n",
       "\n",
       "                 age  Marital Status_Married  Marital Status_Single  \\\n",
       "count  115640.000000           115640.000000          115640.000000   \n",
       "mean       46.867399                0.332212               0.334521   \n",
       "std        16.726095                0.471009               0.471825   \n",
       "min        18.000000                0.000000               0.000000   \n",
       "25%        32.000000                0.000000               0.000000   \n",
       "50%        47.000000                0.000000               0.000000   \n",
       "75%        61.000000                1.000000               1.000000   \n",
       "max        76.000000                1.000000               1.000000   \n",
       "\n",
       "       Education Level_Diploma  Education Level_High School  \\\n",
       "count            115640.000000                115640.000000   \n",
       "mean                  0.250346                     0.249637   \n",
       "std                   0.433214                     0.432805   \n",
       "min                   0.000000                     0.000000   \n",
       "25%                   0.000000                     0.000000   \n",
       "50%                   0.000000                     0.000000   \n",
       "75%                   1.000000                     0.000000   \n",
       "max                   1.000000                     1.000000   \n",
       "\n",
       "       Education Level_Master's  Customer Segment_Retail  Customer Segment_SME  \n",
       "count             115640.000000            115640.000000         115640.000000  \n",
       "mean                   0.250519                 0.329739              0.336415  \n",
       "std                    0.433314                 0.470120              0.472485  \n",
       "min                    0.000000                 0.000000              0.000000  \n",
       "25%                    0.000000                 0.000000              0.000000  \n",
       "50%                    0.000000                 0.000000              0.000000  \n",
       "75%                    1.000000                 1.000000              1.000000  \n",
       "max                    1.000000                 1.000000              1.000000  "
      ],
      "text/html": [
       "<div>\n",
       "<style scoped>\n",
       "    .dataframe tbody tr th:only-of-type {\n",
       "        vertical-align: middle;\n",
       "    }\n",
       "\n",
       "    .dataframe tbody tr th {\n",
       "        vertical-align: top;\n",
       "    }\n",
       "\n",
       "    .dataframe thead th {\n",
       "        text-align: right;\n",
       "    }\n",
       "</style>\n",
       "<table border=\"1\" class=\"dataframe\">\n",
       "  <thead>\n",
       "    <tr style=\"text-align: right;\">\n",
       "      <th></th>\n",
       "      <th>Gender</th>\n",
       "      <th>Number of Dependents</th>\n",
       "      <th>Income</th>\n",
       "      <th>Customer Tenure</th>\n",
       "      <th>Preferred Communication Channel</th>\n",
       "      <th>Credit Score</th>\n",
       "      <th>Credit History Length</th>\n",
       "      <th>Outstanding Loans</th>\n",
       "      <th>Balance</th>\n",
       "      <th>NumOfProducts</th>\n",
       "      <th>NumComplaints</th>\n",
       "      <th>age</th>\n",
       "      <th>Marital Status_Married</th>\n",
       "      <th>Marital Status_Single</th>\n",
       "      <th>Education Level_Diploma</th>\n",
       "      <th>Education Level_High School</th>\n",
       "      <th>Education Level_Master's</th>\n",
       "      <th>Customer Segment_Retail</th>\n",
       "      <th>Customer Segment_SME</th>\n",
       "    </tr>\n",
       "  </thead>\n",
       "  <tbody>\n",
       "    <tr>\n",
       "      <th>count</th>\n",
       "      <td>115640.000000</td>\n",
       "      <td>115640.000000</td>\n",
       "      <td>115640.000000</td>\n",
       "      <td>115640.000000</td>\n",
       "      <td>115640.000000</td>\n",
       "      <td>115640.000000</td>\n",
       "      <td>115640.000000</td>\n",
       "      <td>115640.000000</td>\n",
       "      <td>115640.000000</td>\n",
       "      <td>115640.000000</td>\n",
       "      <td>115640.000000</td>\n",
       "      <td>115640.000000</td>\n",
       "      <td>115640.000000</td>\n",
       "      <td>115640.000000</td>\n",
       "      <td>115640.000000</td>\n",
       "      <td>115640.000000</td>\n",
       "      <td>115640.000000</td>\n",
       "      <td>115640.000000</td>\n",
       "      <td>115640.000000</td>\n",
       "    </tr>\n",
       "    <tr>\n",
       "      <th>mean</th>\n",
       "      <td>0.500086</td>\n",
       "      <td>2.502923</td>\n",
       "      <td>52641.363046</td>\n",
       "      <td>15.490591</td>\n",
       "      <td>0.501937</td>\n",
       "      <td>574.299775</td>\n",
       "      <td>15.546602</td>\n",
       "      <td>25502.731792</td>\n",
       "      <td>124639.209748</td>\n",
       "      <td>2.999274</td>\n",
       "      <td>4.991724</td>\n",
       "      <td>46.867399</td>\n",
       "      <td>0.332212</td>\n",
       "      <td>0.334521</td>\n",
       "      <td>0.250346</td>\n",
       "      <td>0.249637</td>\n",
       "      <td>0.250519</td>\n",
       "      <td>0.329739</td>\n",
       "      <td>0.336415</td>\n",
       "    </tr>\n",
       "    <tr>\n",
       "      <th>std</th>\n",
       "      <td>0.500002</td>\n",
       "      <td>1.707249</td>\n",
       "      <td>27429.756390</td>\n",
       "      <td>8.654217</td>\n",
       "      <td>0.499998</td>\n",
       "      <td>159.067499</td>\n",
       "      <td>8.654630</td>\n",
       "      <td>14127.859827</td>\n",
       "      <td>72210.476638</td>\n",
       "      <td>1.411361</td>\n",
       "      <td>3.159283</td>\n",
       "      <td>16.726095</td>\n",
       "      <td>0.471009</td>\n",
       "      <td>0.471825</td>\n",
       "      <td>0.433214</td>\n",
       "      <td>0.432805</td>\n",
       "      <td>0.433314</td>\n",
       "      <td>0.470120</td>\n",
       "      <td>0.472485</td>\n",
       "    </tr>\n",
       "    <tr>\n",
       "      <th>min</th>\n",
       "      <td>0.000000</td>\n",
       "      <td>0.000000</td>\n",
       "      <td>5000.960000</td>\n",
       "      <td>1.000000</td>\n",
       "      <td>0.000000</td>\n",
       "      <td>300.000000</td>\n",
       "      <td>1.000000</td>\n",
       "      <td>1000.430000</td>\n",
       "      <td>1.060000</td>\n",
       "      <td>1.000000</td>\n",
       "      <td>0.000000</td>\n",
       "      <td>18.000000</td>\n",
       "      <td>0.000000</td>\n",
       "      <td>0.000000</td>\n",
       "      <td>0.000000</td>\n",
       "      <td>0.000000</td>\n",
       "      <td>0.000000</td>\n",
       "      <td>0.000000</td>\n",
       "      <td>0.000000</td>\n",
       "    </tr>\n",
       "    <tr>\n",
       "      <th>25%</th>\n",
       "      <td>0.000000</td>\n",
       "      <td>1.000000</td>\n",
       "      <td>28857.070000</td>\n",
       "      <td>8.000000</td>\n",
       "      <td>0.000000</td>\n",
       "      <td>436.000000</td>\n",
       "      <td>8.000000</td>\n",
       "      <td>13226.060000</td>\n",
       "      <td>61991.915000</td>\n",
       "      <td>2.000000</td>\n",
       "      <td>2.000000</td>\n",
       "      <td>32.000000</td>\n",
       "      <td>0.000000</td>\n",
       "      <td>0.000000</td>\n",
       "      <td>0.000000</td>\n",
       "      <td>0.000000</td>\n",
       "      <td>0.000000</td>\n",
       "      <td>0.000000</td>\n",
       "      <td>0.000000</td>\n",
       "    </tr>\n",
       "    <tr>\n",
       "      <th>50%</th>\n",
       "      <td>1.000000</td>\n",
       "      <td>3.000000</td>\n",
       "      <td>52658.110000</td>\n",
       "      <td>15.000000</td>\n",
       "      <td>1.000000</td>\n",
       "      <td>574.000000</td>\n",
       "      <td>16.000000</td>\n",
       "      <td>25505.285000</td>\n",
       "      <td>124505.890000</td>\n",
       "      <td>3.000000</td>\n",
       "      <td>5.000000</td>\n",
       "      <td>47.000000</td>\n",
       "      <td>0.000000</td>\n",
       "      <td>0.000000</td>\n",
       "      <td>0.000000</td>\n",
       "      <td>0.000000</td>\n",
       "      <td>0.000000</td>\n",
       "      <td>0.000000</td>\n",
       "      <td>0.000000</td>\n",
       "    </tr>\n",
       "    <tr>\n",
       "      <th>75%</th>\n",
       "      <td>1.000000</td>\n",
       "      <td>4.000000</td>\n",
       "      <td>76364.157500</td>\n",
       "      <td>23.000000</td>\n",
       "      <td>1.000000</td>\n",
       "      <td>712.000000</td>\n",
       "      <td>23.000000</td>\n",
       "      <td>37742.250000</td>\n",
       "      <td>187122.922500</td>\n",
       "      <td>4.000000</td>\n",
       "      <td>8.000000</td>\n",
       "      <td>61.000000</td>\n",
       "      <td>1.000000</td>\n",
       "      <td>1.000000</td>\n",
       "      <td>1.000000</td>\n",
       "      <td>0.000000</td>\n",
       "      <td>1.000000</td>\n",
       "      <td>1.000000</td>\n",
       "      <td>1.000000</td>\n",
       "    </tr>\n",
       "    <tr>\n",
       "      <th>max</th>\n",
       "      <td>1.000000</td>\n",
       "      <td>5.000000</td>\n",
       "      <td>99999.510000</td>\n",
       "      <td>30.000000</td>\n",
       "      <td>1.000000</td>\n",
       "      <td>850.000000</td>\n",
       "      <td>30.000000</td>\n",
       "      <td>49999.690000</td>\n",
       "      <td>249998.910000</td>\n",
       "      <td>5.000000</td>\n",
       "      <td>10.000000</td>\n",
       "      <td>76.000000</td>\n",
       "      <td>1.000000</td>\n",
       "      <td>1.000000</td>\n",
       "      <td>1.000000</td>\n",
       "      <td>1.000000</td>\n",
       "      <td>1.000000</td>\n",
       "      <td>1.000000</td>\n",
       "      <td>1.000000</td>\n",
       "    </tr>\n",
       "  </tbody>\n",
       "</table>\n",
       "</div>"
      ]
     },
     "execution_count": 86,
     "metadata": {},
     "output_type": "execute_result"
    }
   ],
   "execution_count": 86
  },
  {
   "metadata": {},
   "cell_type": "markdown",
   "source": [
    "Count (số lượng bản ghi): Tất cả các cột đều có 115,640 bản ghi (tức là không có giá trị thiếu).\n",
    "Mean (Giá trị trung bình):\n",
    "Cột Gender: Trung bình gần 0.5 (giải thích rằng có khoảng 50% dữ liệu là nam và 50% là nữ, nếu mã hóa 0 = nữ và 1 = nam).\n",
    "Cột Income: Trung bình khoảng 52,641.36, tức là thu nhập trung bình của khách hàng khá cao.\n",
    "Cột Balance: Trung bình là khoảng 124,639.21, cho thấy số dư trung bình của khách hàng rất cao.\n",
    "Cột Credit Score: Trung bình là 574.3, một mức khá trung bình cho điểm tín dụng.\n",
    "Cột NumOfProducts: Trung bình là 2.99, cho thấy khách hàng thường sử dụng khoảng 3 sản phẩm từ ngân hàng.\n",
    "Các cột nhị phân (ví dụ: Gender, Marital Status, Preferred Communication Channel) có giá trị trung bình khoảng 0.5 (giải thích là có sự phân chia gần đều giữa các lớp).\n",
    "Standard Deviation (Độ lệch chuẩn):\n",
    "Các cột như Income, Balance có độ lệch chuẩn lớn (lên đến 72,210 cho Balance), chỉ ra sự phân tán lớn trong các giá trị này.\n",
    "Các cột như Gender, Marital Status có độ lệch chuẩn nhỏ (gần 0.5), vì đây là các cột nhị phân.\n",
    "Min (Giá trị nhỏ nhất) và Max (Giá trị lớn nhất):\n",
    "Các giá trị min và max cho thấy sự phân bố rộng của các trường như Income, Balance (ví dụ: Income từ 5,000 đến 99,999, Balance từ 1.06 đến 249,998.91).\n",
    "Percentiles (Phân vị):\n",
    "Các phân vị 25%, 50%, 75% cho thấy dữ liệu phân phối khá đồng đều, đặc biệt với các cột như Income, Balance, Credit Score. Một số cột có phân vị rất tập trung (ví dụ: Gender có phân vị chủ yếu ở 0 và 1)."
   ],
   "id": "c1ac36cca5d27a61"
  },
  {
   "metadata": {
    "ExecuteTime": {
     "end_time": "2024-12-14T16:44:58.846545Z",
     "start_time": "2024-12-14T16:44:58.762044Z"
    }
   },
   "cell_type": "code",
   "source": [
    "# Chia dữ liệu\n",
    "from sklearn.model_selection import train_test_split\n",
    "X_train_7_3, X_test_7_3, y_train_7_3, y_test_7_3 = train_test_split(X, y, test_size=0.3, random_state=42)\n",
    "from sklearn.model_selection import train_test_split\n",
    "X_train_4_1, X_test_4_1, y_train_4_1, y_test_4_1 = train_test_split(X,y, test_size=0.2, random_state=42)\n",
    "from sklearn.model_selection import train_test_split\n",
    "X_train_6_4, X_test_6_4, y_train_6_4, y_test_6_4 = train_test_split(X,y, test_size=0.4, random_state=42)"
   ],
   "id": "f71e5536cfee9535",
   "outputs": [],
   "execution_count": 87
  },
  {
   "metadata": {
    "ExecuteTime": {
     "end_time": "2024-12-14T16:44:58.976858Z",
     "start_time": "2024-12-14T16:44:58.872848Z"
    }
   },
   "cell_type": "code",
   "source": [
    "# Chuẩn hóa chỉ trên tập huấn luyện\n",
    "scaler = StandardScaler()\n",
    "X_train_7_3 = scaler.fit_transform(X_train_7_3)  # Fit và transform trên tập huấn luyện\n",
    "X_test_7_3 = scaler.transform(X_test_7_3)       # Chỉ transform trên tập kiểm tra\n",
    "scaler_4_1 = StandardScaler()\n",
    "X_train_4_1 = scaler_4_1.fit_transform(X_train_4_1)  # Fit trên tập huấn luyện\n",
    "X_test_4_1 = scaler_4_1.transform(X_test_4_1)        # Transform trên tập kiểm tra\n",
    "scaler_6_4 = StandardScaler()\n",
    "X_train_6_4 = scaler_6_4.fit_transform(X_train_6_4)  # Fit trên tập huấn luyện\n",
    "X_test_6_4 = scaler_6_4.transform(X_test_6_4)        # Transform trên tập kiểm tra"
   ],
   "id": "1cbbb4ca94e96cf4",
   "outputs": [],
   "execution_count": 88
  },
  {
   "metadata": {},
   "cell_type": "markdown",
   "source": "# Sử dụng PCA",
   "id": "2e29e91a39586008"
  },
  {
   "metadata": {
    "ExecuteTime": {
     "end_time": "2024-12-14T16:44:59.042947Z",
     "start_time": "2024-12-14T16:44:59.002526Z"
    }
   },
   "cell_type": "code",
   "source": [
    "# Bước 2: Chuẩn hóa dữ liệu\n",
    "scaler = StandardScaler()\n",
    "X_scaled = scaler.fit_transform(X)"
   ],
   "id": "2da3569b64915fcc",
   "outputs": [],
   "execution_count": 89
  },
  {
   "metadata": {
    "ExecuteTime": {
     "end_time": "2024-12-14T16:44:59.176193Z",
     "start_time": "2024-12-14T16:44:59.159609Z"
    }
   },
   "cell_type": "code",
   "source": [
    "from sklearn.decomposition import PCA\n",
    "\n",
    "# Áp dụng PCA\n",
    "pca = PCA(n_components=10)  # Giảm xuống còn 5 thành phần chính\n",
    "X_pca = pca.fit_transform(X_scaled)\n",
    "\n",
    "# Kiểm tra tỷ lệ phương sai giải thích của các thành phần\n",
    "explained_variance_ratio = pca.explained_variance_ratio_\n",
    "print(f\"Tỷ lệ phương sai giải thích: {explained_variance_ratio}\")\n",
    "print(f\"Tổng phương sai giải thích: {np.sum(explained_variance_ratio)}\")\n"
   ],
   "id": "1b45081a8c3f4d12",
   "outputs": [
    {
     "name": "stdout",
     "output_type": "stream",
     "text": [
      "Tỷ lệ phương sai giải thích: [0.07909064 0.07881691 0.0702451  0.0701712  0.05372129 0.05344878\n",
      " 0.05322413 0.05305416 0.05279102 0.05259118]\n",
      "Tổng phương sai giải thích: 0.6171544272475621\n"
     ]
    }
   ],
   "execution_count": 90
  },
  {
   "metadata": {
    "ExecuteTime": {
     "end_time": "2024-12-14T16:44:59.976653Z",
     "start_time": "2024-12-14T16:44:59.289622Z"
    }
   },
   "cell_type": "code",
   "source": [
    "import matplotlib.pyplot as plt\n",
    "import seaborn as sns\n",
    "import pandas as pd\n",
    "\n",
    "# Tạo DataFrame với các thành phần chính\n",
    "pca_df = pd.DataFrame(X_pca, columns=['PCA1', 'PCA2', 'PCA3', 'PCA4', 'PCA5'])\n",
    "\n",
    "# Thêm nhãn 'Churn Flag' vào DataFrame\n",
    "pca_df['Churn Flag'] = y\n",
    "\n",
    "# Sử dụng pairplot để hiển thị mối quan hệ giữa các thành phần chính và phân loại theo 'Churn Flag'\n",
    "sns.pairplot(pca_df, hue='Churn Flag', palette='viridis', height=2)  # 80% của giá trị mặc định là 3\n",
    "\n",
    "# Hiển thị trực quan hóa\n",
    "plt.suptitle('Pairplot của các thành phần chính sau PCA', y=1.02)\n",
    "plt.show()\n",
    "\n"
   ],
   "id": "ff87a2ff15291dcb",
   "outputs": [
    {
     "ename": "ValueError",
     "evalue": "Shape of passed values is (115640, 10), indices imply (115640, 5)",
     "output_type": "error",
     "traceback": [
      "\u001B[1;31m---------------------------------------------------------------------------\u001B[0m",
      "\u001B[1;31mValueError\u001B[0m                                Traceback (most recent call last)",
      "Cell \u001B[1;32mIn[91], line 6\u001B[0m\n\u001B[0;32m      3\u001B[0m \u001B[38;5;28;01mimport\u001B[39;00m \u001B[38;5;21;01mpandas\u001B[39;00m \u001B[38;5;28;01mas\u001B[39;00m \u001B[38;5;21;01mpd\u001B[39;00m\n\u001B[0;32m      5\u001B[0m \u001B[38;5;66;03m# Tạo DataFrame với các thành phần chính\u001B[39;00m\n\u001B[1;32m----> 6\u001B[0m pca_df \u001B[38;5;241m=\u001B[39m \u001B[43mpd\u001B[49m\u001B[38;5;241;43m.\u001B[39;49m\u001B[43mDataFrame\u001B[49m\u001B[43m(\u001B[49m\u001B[43mX_pca\u001B[49m\u001B[43m,\u001B[49m\u001B[43m \u001B[49m\u001B[43mcolumns\u001B[49m\u001B[38;5;241;43m=\u001B[39;49m\u001B[43m[\u001B[49m\u001B[38;5;124;43m'\u001B[39;49m\u001B[38;5;124;43mPCA1\u001B[39;49m\u001B[38;5;124;43m'\u001B[39;49m\u001B[43m,\u001B[49m\u001B[43m \u001B[49m\u001B[38;5;124;43m'\u001B[39;49m\u001B[38;5;124;43mPCA2\u001B[39;49m\u001B[38;5;124;43m'\u001B[39;49m\u001B[43m,\u001B[49m\u001B[43m \u001B[49m\u001B[38;5;124;43m'\u001B[39;49m\u001B[38;5;124;43mPCA3\u001B[39;49m\u001B[38;5;124;43m'\u001B[39;49m\u001B[43m,\u001B[49m\u001B[43m \u001B[49m\u001B[38;5;124;43m'\u001B[39;49m\u001B[38;5;124;43mPCA4\u001B[39;49m\u001B[38;5;124;43m'\u001B[39;49m\u001B[43m,\u001B[49m\u001B[43m \u001B[49m\u001B[38;5;124;43m'\u001B[39;49m\u001B[38;5;124;43mPCA5\u001B[39;49m\u001B[38;5;124;43m'\u001B[39;49m\u001B[43m]\u001B[49m\u001B[43m)\u001B[49m\n\u001B[0;32m      8\u001B[0m \u001B[38;5;66;03m# Thêm nhãn 'Churn Flag' vào DataFrame\u001B[39;00m\n\u001B[0;32m      9\u001B[0m pca_df[\u001B[38;5;124m'\u001B[39m\u001B[38;5;124mChurn Flag\u001B[39m\u001B[38;5;124m'\u001B[39m] \u001B[38;5;241m=\u001B[39m y\n",
      "File \u001B[1;32mD:\\Machine learning\\.venv\\Lib\\site-packages\\pandas\\core\\frame.py:827\u001B[0m, in \u001B[0;36mDataFrame.__init__\u001B[1;34m(self, data, index, columns, dtype, copy)\u001B[0m\n\u001B[0;32m    816\u001B[0m         mgr \u001B[38;5;241m=\u001B[39m dict_to_mgr(\n\u001B[0;32m    817\u001B[0m             \u001B[38;5;66;03m# error: Item \"ndarray\" of \"Union[ndarray, Series, Index]\" has no\u001B[39;00m\n\u001B[0;32m    818\u001B[0m             \u001B[38;5;66;03m# attribute \"name\"\u001B[39;00m\n\u001B[1;32m   (...)\u001B[0m\n\u001B[0;32m    824\u001B[0m             copy\u001B[38;5;241m=\u001B[39m_copy,\n\u001B[0;32m    825\u001B[0m         )\n\u001B[0;32m    826\u001B[0m     \u001B[38;5;28;01melse\u001B[39;00m:\n\u001B[1;32m--> 827\u001B[0m         mgr \u001B[38;5;241m=\u001B[39m \u001B[43mndarray_to_mgr\u001B[49m\u001B[43m(\u001B[49m\n\u001B[0;32m    828\u001B[0m \u001B[43m            \u001B[49m\u001B[43mdata\u001B[49m\u001B[43m,\u001B[49m\n\u001B[0;32m    829\u001B[0m \u001B[43m            \u001B[49m\u001B[43mindex\u001B[49m\u001B[43m,\u001B[49m\n\u001B[0;32m    830\u001B[0m \u001B[43m            \u001B[49m\u001B[43mcolumns\u001B[49m\u001B[43m,\u001B[49m\n\u001B[0;32m    831\u001B[0m \u001B[43m            \u001B[49m\u001B[43mdtype\u001B[49m\u001B[38;5;241;43m=\u001B[39;49m\u001B[43mdtype\u001B[49m\u001B[43m,\u001B[49m\n\u001B[0;32m    832\u001B[0m \u001B[43m            \u001B[49m\u001B[43mcopy\u001B[49m\u001B[38;5;241;43m=\u001B[39;49m\u001B[43mcopy\u001B[49m\u001B[43m,\u001B[49m\n\u001B[0;32m    833\u001B[0m \u001B[43m            \u001B[49m\u001B[43mtyp\u001B[49m\u001B[38;5;241;43m=\u001B[39;49m\u001B[43mmanager\u001B[49m\u001B[43m,\u001B[49m\n\u001B[0;32m    834\u001B[0m \u001B[43m        \u001B[49m\u001B[43m)\u001B[49m\n\u001B[0;32m    836\u001B[0m \u001B[38;5;66;03m# For data is list-like, or Iterable (will consume into list)\u001B[39;00m\n\u001B[0;32m    837\u001B[0m \u001B[38;5;28;01melif\u001B[39;00m is_list_like(data):\n",
      "File \u001B[1;32mD:\\Machine learning\\.venv\\Lib\\site-packages\\pandas\\core\\internals\\construction.py:336\u001B[0m, in \u001B[0;36mndarray_to_mgr\u001B[1;34m(values, index, columns, dtype, copy, typ)\u001B[0m\n\u001B[0;32m    331\u001B[0m \u001B[38;5;66;03m# _prep_ndarraylike ensures that values.ndim == 2 at this point\u001B[39;00m\n\u001B[0;32m    332\u001B[0m index, columns \u001B[38;5;241m=\u001B[39m _get_axes(\n\u001B[0;32m    333\u001B[0m     values\u001B[38;5;241m.\u001B[39mshape[\u001B[38;5;241m0\u001B[39m], values\u001B[38;5;241m.\u001B[39mshape[\u001B[38;5;241m1\u001B[39m], index\u001B[38;5;241m=\u001B[39mindex, columns\u001B[38;5;241m=\u001B[39mcolumns\n\u001B[0;32m    334\u001B[0m )\n\u001B[1;32m--> 336\u001B[0m \u001B[43m_check_values_indices_shape_match\u001B[49m\u001B[43m(\u001B[49m\u001B[43mvalues\u001B[49m\u001B[43m,\u001B[49m\u001B[43m \u001B[49m\u001B[43mindex\u001B[49m\u001B[43m,\u001B[49m\u001B[43m \u001B[49m\u001B[43mcolumns\u001B[49m\u001B[43m)\u001B[49m\n\u001B[0;32m    338\u001B[0m \u001B[38;5;28;01mif\u001B[39;00m typ \u001B[38;5;241m==\u001B[39m \u001B[38;5;124m\"\u001B[39m\u001B[38;5;124marray\u001B[39m\u001B[38;5;124m\"\u001B[39m:\n\u001B[0;32m    339\u001B[0m     \u001B[38;5;28;01mif\u001B[39;00m \u001B[38;5;28missubclass\u001B[39m(values\u001B[38;5;241m.\u001B[39mdtype\u001B[38;5;241m.\u001B[39mtype, \u001B[38;5;28mstr\u001B[39m):\n",
      "File \u001B[1;32mD:\\Machine learning\\.venv\\Lib\\site-packages\\pandas\\core\\internals\\construction.py:420\u001B[0m, in \u001B[0;36m_check_values_indices_shape_match\u001B[1;34m(values, index, columns)\u001B[0m\n\u001B[0;32m    418\u001B[0m passed \u001B[38;5;241m=\u001B[39m values\u001B[38;5;241m.\u001B[39mshape\n\u001B[0;32m    419\u001B[0m implied \u001B[38;5;241m=\u001B[39m (\u001B[38;5;28mlen\u001B[39m(index), \u001B[38;5;28mlen\u001B[39m(columns))\n\u001B[1;32m--> 420\u001B[0m \u001B[38;5;28;01mraise\u001B[39;00m \u001B[38;5;167;01mValueError\u001B[39;00m(\u001B[38;5;124mf\u001B[39m\u001B[38;5;124m\"\u001B[39m\u001B[38;5;124mShape of passed values is \u001B[39m\u001B[38;5;132;01m{\u001B[39;00mpassed\u001B[38;5;132;01m}\u001B[39;00m\u001B[38;5;124m, indices imply \u001B[39m\u001B[38;5;132;01m{\u001B[39;00mimplied\u001B[38;5;132;01m}\u001B[39;00m\u001B[38;5;124m\"\u001B[39m)\n",
      "\u001B[1;31mValueError\u001B[0m: Shape of passed values is (115640, 10), indices imply (115640, 5)"
     ]
    }
   ],
   "execution_count": 91
  },
  {
   "metadata": {},
   "cell_type": "markdown",
   "source": "# Sử dụng LDA",
   "id": "c734fa7f06bbc278"
  },
  {
   "metadata": {
    "ExecuteTime": {
     "end_time": "2024-12-14T16:45:00.048662400Z",
     "start_time": "2024-12-14T16:04:31.507705Z"
    }
   },
   "cell_type": "code",
   "source": [
    "from sklearn.discriminant_analysis import LinearDiscriminantAnalysis as LDA\n",
    "# Bước 3: Áp dụng LDA với 2 thành phần chính\n",
    "lda = LDA(n_components=1)\n",
    "X_lda_1d = lda.fit_transform(X_scaled, y)\n",
    "\n",
    "# Bước 4: Trực quan hóa dữ liệu sau khi giảm chiều\n",
    "plt.figure(figsize=(8, 4))\n",
    "plt.scatter(X_lda_1d[:, 0], [0] * len(X_lda_1d), c=y, cmap='viridis', alpha=0.5)\n",
    "plt.xlabel('Thành phần LDA 1')\n",
    "plt.title('Dữ liệu sau LDA (giảm còn 1 chiều)')\n",
    "plt.colorbar(label='Churn Flag')\n",
    "plt.grid(True)\n",
    "plt.show()\n",
    "\n",
    "# In thông tin quan trọng\n",
    "explained_variance_ratio = lda.explained_variance_ratio_\n",
    "print(f\"Tỷ lệ phương sai giải thích bởi thành phần LDA 1: {explained_variance_ratio[0]:.2f}\")"
   ],
   "id": "d7736b3627d3f0d0",
   "outputs": [
    {
     "data": {
      "text/plain": [
       "<Figure size 800x400 with 2 Axes>"
      ],
      "image/png": "[encoded data removed]"
     },
     "metadata": {},
     "output_type": "display_data"
    },
    {
     "name": "stdout",
     "output_type": "stream",
     "text": [
      "Tỷ lệ phương sai giải thích bởi thành phần LDA 1: 1.00\n"
     ]
    }
   ],
   "execution_count": 50
  },
  {
   "metadata": {},
   "cell_type": "markdown",
   "source": [
    "Hình vẽ thể hiện dữ liệu sau khi áp dụng giảm chiều với LDA, chỉ còn một chiều (thành phần LDA 1).\n",
    "Các điểm dữ liệu được phân biệt bởi màu sắc, với hai màu chủ yếu là vàng và tím, tượng trưng cho hai lớp khác nhau của biến mục tiêu \"Churn Flag\" (Churn Flag = 0 và Churn Flag = 1).\n",
    "Phân tách khá rõ: Dữ liệu giữa hai lớp (vàng và tím) có sự phân tách khá rõ ràng trong hầu hết các trường hợp, với phần lớn các điểm vàng nằm về một phía và các điểm tím nằm về phía còn lại.\n",
    "Sự tách biệt mơ hồ ở giữa: Tuy nhiên, ở giữa hai lớp (vàng và tím), có một số điểm dữ liệu có sự pha trộn màu sắc (khoảng màu giao thoa giữa vàng và tím). Điều này chỉ ra rằng mặc dù LDA đã cố gắng giảm chiều và phân biệt các lớp, nhưng vẫn có sự chồng lấn giữa các điểm của hai lớp, dẫn đến các điểm không thể phân biệt rõ ràng.\n",
    "Chồng lấn giữa vàng và tím: Các điểm ở vùng giữa có sự chồng lấn giữa hai màu (vàng và tím), cho thấy rằng một số điểm dữ liệu có thể thuộc vào cả hai lớp hoặc có tính chất không rõ ràng. Điều này có thể do các điểm dữ liệu có đặc trưng tương tự nhau ở không gian ban đầu, khiến LDA khó có thể phân loại chúng hoàn toàn chính xác khi giảm chiều xuống.\n",
    "Ảnh hưởng của các đặc trưng không đủ phân biệt: Sự chồng lấn có thể là do đặc trưng dữ liệu không đủ mạnh để phân biệt giữa các lớp trong không gian giảm chiều. Nếu các đặc trưng không có sự khác biệt rõ ràng giữa các lớp, LDA sẽ không thể tìm ra sự phân tách rõ ràng trong không gian giảm chiều.\n",
    "Hình vẽ sau khi giảm chiều bằng LDA cho thấy rằng mặc dù phương pháp này có thể phân biệt các lớp ở mức độ nhất định, nhưng vẫn có sự chồng lấn giữa các điểm dữ liệu ở vùng giữa hai lớp, cho thấy LDA không thể hoàn toàn tách biệt các lớp trong không gian một chiều. Điều này phản ánh một thách thức trong việc phân tích dữ liệu với đặc trưng không đủ phân biệt hoặc khi dữ liệu có sự chồng lấn giữa các lớp."
   ],
   "id": "70c2a32fe056ad23"
  },
  {
   "metadata": {},
   "cell_type": "markdown",
   "source": "# Áp dụng mô hình hồi quy logistic với naive bayes trên tập dữ liệu đã xử lí",
   "id": "8690fd6c0e7bf4ea"
  },
  {
   "metadata": {},
   "cell_type": "markdown",
   "source": "# 7-3",
   "id": "38c6ae169d0dc534"
  },
  {
   "metadata": {
    "ExecuteTime": {
     "end_time": "2024-12-14T16:45:00.049669100Z",
     "start_time": "2024-12-14T16:04:34.372427Z"
    }
   },
   "cell_type": "code",
   "source": [
    "from sklearn.linear_model import LogisticRegression\n",
    "from sklearn.metrics import classification_report\n",
    "\n",
    "# Huấn luyện mô hình Logistic Regression\n",
    "logistic_regression = LogisticRegression()\n",
    "logistic_regression.fit(X_train_7_3, y_train_7_3)\n",
    "\n",
    "# Dự đoán trên tập kiểm tra\n",
    "y_pred_1 = logistic_regression.predict(X_test_7_3)\n",
    "\n",
    "# Đánh giá mô hình trên tập kiểm tra\n",
    "print(\"Classification Report on Test Set:\")\n",
    "print(classification_report(y_test_7_3, y_pred_1))\n",
    "\n",
    "# Dự đoán trên tập huấn luyện\n",
    "y_train_pred = logistic_regression.predict(X_train_7_3)\n",
    "\n",
    "# Đánh giá mô hình trên tập huấn luyện\n",
    "print(\"Classification Report on Training Set:\")\n",
    "print(classification_report(y_train_7_3, y_train_pred))"
   ],
   "id": "f2e64aaad5da2da0",
   "outputs": [
    {
     "name": "stdout",
     "output_type": "stream",
     "text": [
      "Classification Report on Test Set:\n",
      "              precision    recall  f1-score   support\n",
      "\n",
      "           0       1.00      1.00      1.00     30419\n",
      "           1       1.00      1.00      1.00      4273\n",
      "\n",
      "    accuracy                           1.00     34692\n",
      "   macro avg       1.00      1.00      1.00     34692\n",
      "weighted avg       1.00      1.00      1.00     34692\n",
      "\n",
      "Classification Report on Training Set:\n",
      "              precision    recall  f1-score   support\n",
      "\n",
      "           0       1.00      1.00      1.00     71127\n",
      "           1       1.00      1.00      1.00      9821\n",
      "\n",
      "    accuracy                           1.00     80948\n",
      "   macro avg       1.00      1.00      1.00     80948\n",
      "weighted avg       1.00      1.00      1.00     80948\n",
      "\n"
     ]
    }
   ],
   "execution_count": 51
  },
  {
   "metadata": {
    "ExecuteTime": {
     "end_time": "2024-12-14T16:45:00.049669100Z",
     "start_time": "2024-12-14T16:04:34.794682Z"
    }
   },
   "cell_type": "code",
   "source": [
    "from sklearn.naive_bayes import GaussianNB\n",
    "from sklearn.metrics import classification_report, accuracy_score, roc_auc_score, ConfusionMatrixDisplay\n",
    "\n",
    "# Huấn luyện mô hình Naive Bayes\n",
    "gnb = GaussianNB()\n",
    "gnb.fit(X_train_7_3, y_train_7_3)\n",
    "\n",
    "# Dự đoán trên tập huấn luyện\n",
    "y_train_pred = gnb.predict(X_train_7_3)\n",
    "\n",
    "# Đánh giá mô hình trên tập huấn luyện\n",
    "print(\"Classification Report on Training Set:\")\n",
    "print(classification_report(y_train_7_3, y_train_pred))\n",
    "\n",
    "# Dự đoán trên tập kiểm tra\n",
    "y_pred = gnb.predict(X_test_7_3)\n",
    "\n",
    "# Đánh giá mô hình trên tập kiểm tra\n",
    "print(\"Classification Report on Test Set:\")\n",
    "print(classification_report(y_test_7_3, y_pred))"
   ],
   "id": "c471ccf895ece8b7",
   "outputs": [
    {
     "name": "stdout",
     "output_type": "stream",
     "text": [
      "Classification Report on Training Set:\n",
      "              precision    recall  f1-score   support\n",
      "\n",
      "           0       0.97      0.99      0.98     71127\n",
      "           1       0.95      0.80      0.87      9821\n",
      "\n",
      "    accuracy                           0.97     80948\n",
      "   macro avg       0.96      0.90      0.93     80948\n",
      "weighted avg       0.97      0.97      0.97     80948\n",
      "\n",
      "Classification Report on Test Set:\n",
      "              precision    recall  f1-score   support\n",
      "\n",
      "           0       0.97      0.99      0.98     30419\n",
      "           1       0.94      0.79      0.86      4273\n",
      "\n",
      "    accuracy                           0.97     34692\n",
      "   macro avg       0.96      0.89      0.92     34692\n",
      "weighted avg       0.97      0.97      0.97     34692\n",
      "\n"
     ]
    }
   ],
   "execution_count": 52
  },
  {
   "metadata": {},
   "cell_type": "markdown",
   "source": "# 6-4",
   "id": "ed5cbc4a600e1750"
  },
  {
   "metadata": {
    "ExecuteTime": {
     "end_time": "2024-12-14T16:45:00.049669100Z",
     "start_time": "2024-12-14T16:04:34.951794Z"
    }
   },
   "cell_type": "code",
   "source": [
    "# Huấn luyện và đánh giá Logistic Regression\n",
    "logistic_regression = LogisticRegression(max_iter=500)\n",
    "logistic_regression.fit(X_train_6_4, y_train_6_4)\n",
    "\n",
    "# Dự đoán trên tập kiểm tra\n",
    "y_pred_test_6_4 = logistic_regression.predict(X_test_6_4)\n",
    "print(\"=== Classification Report on Test Set (6:4) ===\")\n",
    "print(classification_report(y_test_6_4, y_pred_test_6_4))\n",
    "\n",
    "# Dự đoán trên tập huấn luyện\n",
    "y_pred_train_6_4 = logistic_regression.predict(X_train_6_4)\n",
    "print(\"=== Classification Report on Training Set (6:4) ===\")\n",
    "print(classification_report(y_train_6_4, y_pred_train_6_4))"
   ],
   "id": "4875830159829ac8",
   "outputs": [
    {
     "name": "stdout",
     "output_type": "stream",
     "text": [
      "=== Classification Report on Test Set (6:4) ===\n",
      "              precision    recall  f1-score   support\n",
      "\n",
      "           0       1.00      1.00      1.00     40576\n",
      "           1       1.00      0.99      1.00      5680\n",
      "\n",
      "    accuracy                           1.00     46256\n",
      "   macro avg       1.00      1.00      1.00     46256\n",
      "weighted avg       1.00      1.00      1.00     46256\n",
      "\n",
      "=== Classification Report on Training Set (6:4) ===\n",
      "              precision    recall  f1-score   support\n",
      "\n",
      "           0       1.00      1.00      1.00     60970\n",
      "           1       1.00      1.00      1.00      8414\n",
      "\n",
      "    accuracy                           1.00     69384\n",
      "   macro avg       1.00      1.00      1.00     69384\n",
      "weighted avg       1.00      1.00      1.00     69384\n",
      "\n"
     ]
    }
   ],
   "execution_count": 53
  },
  {
   "metadata": {
    "ExecuteTime": {
     "end_time": "2024-12-14T16:45:00.050669800Z",
     "start_time": "2024-12-14T16:04:35.332329Z"
    }
   },
   "cell_type": "code",
   "source": [
    "# Huấn luyện mô hình Naive Bayes\n",
    "gnb = GaussianNB()\n",
    "gnb.fit(X_train_6_4, y_train_6_4)\n",
    "\n",
    "# Dự đoán trên tập huấn luyện\n",
    "y_train_pred_6_4 = gnb.predict(X_train_6_4)\n",
    "\n",
    "# Đánh giá trên tập huấn luyện\n",
    "print(\"=== Classification Report on Training Set (6:4) ===\")\n",
    "print(classification_report(y_train_6_4, y_train_pred_6_4))\n",
    "\n",
    "# Dự đoán trên tập kiểm tra\n",
    "y_test_pred_6_4 = gnb.predict(X_test_6_4)\n",
    "\n",
    "# Đánh giá trên tập kiểm tra\n",
    "print(\"=== Classification Report on Test Set (6:4) ===\")\n",
    "print(classification_report(y_test_6_4, y_test_pred_6_4))"
   ],
   "id": "f35964d94a7f02c6",
   "outputs": [
    {
     "name": "stdout",
     "output_type": "stream",
     "text": [
      "=== Classification Report on Training Set (6:4) ===\n",
      "              precision    recall  f1-score   support\n",
      "\n",
      "           0       0.97      0.99      0.98     60970\n",
      "           1       0.94      0.80      0.87      8414\n",
      "\n",
      "    accuracy                           0.97     69384\n",
      "   macro avg       0.96      0.90      0.93     69384\n",
      "weighted avg       0.97      0.97      0.97     69384\n",
      "\n",
      "=== Classification Report on Test Set (6:4) ===\n",
      "              precision    recall  f1-score   support\n",
      "\n",
      "           0       0.97      0.99      0.98     40576\n",
      "           1       0.95      0.79      0.86      5680\n",
      "\n",
      "    accuracy                           0.97     46256\n",
      "   macro avg       0.96      0.89      0.92     46256\n",
      "weighted avg       0.97      0.97      0.97     46256\n",
      "\n"
     ]
    }
   ],
   "execution_count": 54
  },
  {
   "metadata": {},
   "cell_type": "markdown",
   "source": "# 8-2",
   "id": "44e13d0bafb5d3e2"
  },
  {
   "metadata": {
    "ExecuteTime": {
     "end_time": "2024-12-14T16:45:00.050669800Z",
     "start_time": "2024-12-14T16:04:35.548613Z"
    }
   },
   "cell_type": "code",
   "source": [
    "# Huấn luyện và đánh giá Logistic Regression\n",
    "logistic_regression = LogisticRegression(max_iter=500)\n",
    "logistic_regression.fit(X_train_4_1, y_train_4_1)\n",
    "\n",
    "# Dự đoán trên tập kiểm tra\n",
    "y_pred_test_4_1 = logistic_regression.predict(X_test_4_1)\n",
    "print(\"=== Classification Report on Test Set (8:2) ===\")\n",
    "print(classification_report(y_test_4_1, y_pred_test_4_1))\n",
    "\n",
    "# Dự đoán trên tập huấn luyện\n",
    "y_pred_train_4_1 = logistic_regression.predict(X_train_4_1)\n",
    "print(\"=== Classification Report on Training Set (8:2) ===\")\n",
    "print(classification_report(y_train_4_1, y_pred_train_4_1))"
   ],
   "id": "e91544521ee89493",
   "outputs": [
    {
     "name": "stdout",
     "output_type": "stream",
     "text": [
      "=== Classification Report on Test Set (8:2) ===\n",
      "              precision    recall  f1-score   support\n",
      "\n",
      "           0       1.00      1.00      1.00     20301\n",
      "           1       1.00      1.00      1.00      2827\n",
      "\n",
      "    accuracy                           1.00     23128\n",
      "   macro avg       1.00      1.00      1.00     23128\n",
      "weighted avg       1.00      1.00      1.00     23128\n",
      "\n",
      "=== Classification Report on Training Set (8:2) ===\n",
      "              precision    recall  f1-score   support\n",
      "\n",
      "           0       1.00      1.00      1.00     81245\n",
      "           1       1.00      1.00      1.00     11267\n",
      "\n",
      "    accuracy                           1.00     92512\n",
      "   macro avg       1.00      1.00      1.00     92512\n",
      "weighted avg       1.00      1.00      1.00     92512\n",
      "\n"
     ]
    }
   ],
   "execution_count": 55
  },
  {
   "metadata": {
    "ExecuteTime": {
     "end_time": "2024-12-14T16:45:00.050669800Z",
     "start_time": "2024-12-14T16:04:35.830229Z"
    }
   },
   "cell_type": "code",
   "source": [
    "gnb = GaussianNB()\n",
    "gnb.fit(X_train_4_1, y_train_4_1)\n",
    "\n",
    "# Dự đoán trên tập huấn luyện\n",
    "y_train_pred_4_1 = gnb.predict(X_train_4_1)\n",
    "\n",
    "# Đánh giá trên tập huấn luyện\n",
    "print(\"=== Classification Report on Training Set (4:1) ===\")\n",
    "print(classification_report(y_train_4_1, y_train_pred_4_1))\n",
    "\n",
    "# Dự đoán trên tập kiểm tra\n",
    "y_test_pred_4_1 = gnb.predict(X_test_4_1)\n",
    "\n",
    "# Đánh giá trên tập kiểm tra\n",
    "print(\"=== Classification Report on Test Set (4:1) ===\")\n",
    "print(classification_report(y_test_4_1, y_test_pred_4_1))"
   ],
   "id": "c87d5f493ccfd8c5",
   "outputs": [
    {
     "name": "stdout",
     "output_type": "stream",
     "text": [
      "=== Classification Report on Training Set (4:1) ===\n",
      "              precision    recall  f1-score   support\n",
      "\n",
      "           0       0.97      0.99      0.98     81245\n",
      "           1       0.95      0.80      0.87     11267\n",
      "\n",
      "    accuracy                           0.97     92512\n",
      "   macro avg       0.96      0.90      0.93     92512\n",
      "weighted avg       0.97      0.97      0.97     92512\n",
      "\n",
      "=== Classification Report on Test Set (4:1) ===\n",
      "              precision    recall  f1-score   support\n",
      "\n",
      "           0       0.97      0.99      0.98     20301\n",
      "           1       0.94      0.79      0.86      2827\n",
      "\n",
      "    accuracy                           0.97     23128\n",
      "   macro avg       0.96      0.89      0.92     23128\n",
      "weighted avg       0.97      0.97      0.97     23128\n",
      "\n"
     ]
    }
   ],
   "execution_count": 56
  },
  {
   "metadata": {},
   "cell_type": "markdown",
   "source": "# Áp dụng mô hình hồi quy logistic với naive bayes trên tập dữ liệu đã giảm chiều PCA, LDA",
   "id": "3742c3ff83a8b063"
  },
  {
   "metadata": {
    "ExecuteTime": {
     "end_time": "2024-12-14T16:45:00.050669800Z",
     "start_time": "2024-12-14T16:04:36.048118Z"
    }
   },
   "cell_type": "code",
   "source": [
    "# Chia dữ liệupca \n",
    "from sklearn.model_selection import train_test_split\n",
    "X_train_pca, X_test_pca, y_train_7_3, y_test_7_3 = train_test_split(X_pca, y, test_size=0.3, random_state=42)"
   ],
   "id": "ab9f6f142da2cd61",
   "outputs": [],
   "execution_count": 57
  },
  {
   "metadata": {
    "ExecuteTime": {
     "end_time": "2024-12-14T16:45:00.050669800Z",
     "start_time": "2024-12-14T16:04:36.148242Z"
    }
   },
   "cell_type": "code",
   "source": [
    "from sklearn.naive_bayes import GaussianNB\n",
    "gnb = GaussianNB()\n",
    "gnb.fit(X_train_pca, y_train_7_3)\n",
    "y_pred = gnb.predict(X_test_pca)\n",
    "print(\"Classification Report:\")\n",
    "from sklearn.metrics import classification_report, roc_auc_score, ConfusionMatrixDisplay\n",
    "print(classification_report(y_test_7_3, y_pred))"
   ],
   "id": "c41ca154c477b519",
   "outputs": [
    {
     "name": "stdout",
     "output_type": "stream",
     "text": [
      "Classification Report:\n",
      "              precision    recall  f1-score   support\n",
      "\n",
      "           0       0.88      1.00      0.93     30419\n",
      "           1       0.00      0.00      0.00      4273\n",
      "\n",
      "    accuracy                           0.88     34692\n",
      "   macro avg       0.44      0.50      0.47     34692\n",
      "weighted avg       0.77      0.88      0.82     34692\n",
      "\n"
     ]
    },
    {
     "name": "stderr",
     "output_type": "stream",
     "text": [
      "D:\\Machine learning\\.venv\\Lib\\site-packages\\sklearn\\metrics\\_classification.py:1531: UndefinedMetricWarning: Precision is ill-defined and being set to 0.0 in labels with no predicted samples. Use `zero_division` parameter to control this behavior.\n",
      "  _warn_prf(average, modifier, f\"{metric.capitalize()} is\", len(result))\n",
      "D:\\Machine learning\\.venv\\Lib\\site-packages\\sklearn\\metrics\\_classification.py:1531: UndefinedMetricWarning: Precision is ill-defined and being set to 0.0 in labels with no predicted samples. Use `zero_division` parameter to control this behavior.\n",
      "  _warn_prf(average, modifier, f\"{metric.capitalize()} is\", len(result))\n",
      "D:\\Machine learning\\.venv\\Lib\\site-packages\\sklearn\\metrics\\_classification.py:1531: UndefinedMetricWarning: Precision is ill-defined and being set to 0.0 in labels with no predicted samples. Use `zero_division` parameter to control this behavior.\n",
      "  _warn_prf(average, modifier, f\"{metric.capitalize()} is\", len(result))\n"
     ]
    }
   ],
   "execution_count": 58
  },
  {
   "metadata": {},
   "cell_type": "markdown",
   "source": "",
   "id": "ef2bad948951a3b4"
  },
  {
   "metadata": {
    "ExecuteTime": {
     "end_time": "2024-12-14T16:45:00.050669800Z",
     "start_time": "2024-12-14T16:04:36.387482Z"
    }
   },
   "cell_type": "code",
   "source": [
    "from sklearn.linear_model import LogisticRegression\n",
    "from sklearn.metrics import log_loss\n",
    "import matplotlib.pyplot as plt\n",
    "import numpy as np\n",
    "\n",
    "# Khởi tạo mô hình Logistic Regression với solver 'saga'\n",
    "logistic_regression = LogisticRegression(solver='saga', max_iter=1000, warm_start=True)\n",
    "\n",
    "# Danh sách lưu trữ hàm loss qua từng vòng lặp\n",
    "losses = []\n",
    "\n",
    "# Huấn luyện mô hình và theo dõi loss qua các vòng lặp\n",
    "for i in range(100):  # Giới hạn số vòng lặp\n",
    "    logistic_regression.fit(X_train_7_3, y_train_7_3)\n",
    "    \n",
    "    # Dự đoán xác suất\n",
    "    y_prob = logistic_regression.predict_proba(X_train_7_3)\n",
    "    \n",
    "    # Tính toán log_loss và lưu vào danh sách losses\n",
    "    loss = log_loss(y_train_7_3, y_prob)\n",
    "    losses.append(loss)\n",
    "\n",
    "# Hiển thị đồ thị hàm loss qua các vòng lặp\n",
    "plt.plot(range(1, len(losses)+1), losses)\n",
    "plt.title(\"Loss over Iterations\")\n",
    "plt.xlabel(\"Iteration\")\n",
    "plt.ylabel(\"Loss\")\n",
    "plt.show()\n",
    "\n",
    "# Dự đoán và đánh giá mô hình\n",
    "y_pred_1 = logistic_regression.predict(X_test_7_3)\n",
    "print(\"Classification Report:\")\n",
    "print(classification_report(y_test_7_3, y_pred_1))\n"
   ],
   "id": "a21e9de11163040",
   "outputs": [
    {
     "data": {
      "text/plain": [
       "<Figure size 640x480 with 1 Axes>"
      ],
      "image/png": "[encoded data removed]"
     },
     "metadata": {},
     "output_type": "display_data"
    },
    {
     "name": "stdout",
     "output_type": "stream",
     "text": [
      "Classification Report:\n",
      "              precision    recall  f1-score   support\n",
      "\n",
      "           0       1.00      1.00      1.00     30419\n",
      "           1       1.00      1.00      1.00      4273\n",
      "\n",
      "    accuracy                           1.00     34692\n",
      "   macro avg       1.00      1.00      1.00     34692\n",
      "weighted avg       1.00      1.00      1.00     34692\n",
      "\n"
     ]
    }
   ],
   "execution_count": 59
  },
  {
   "metadata": {
    "ExecuteTime": {
     "end_time": "2024-12-14T16:45:00.050669800Z",
     "start_time": "2024-12-14T16:06:44.992102Z"
    }
   },
   "cell_type": "code",
   "source": "\n",
   "id": "ad693fedf37e51ff",
   "outputs": [],
   "execution_count": 59
  },
  {
   "metadata": {
    "ExecuteTime": {
     "end_time": "2024-12-14T16:45:00.050669800Z",
     "start_time": "2024-12-14T16:06:45.068510Z"
    }
   },
   "cell_type": "code",
   "source": [
    "from sklearn.linear_model import LogisticRegression\n",
    "from sklearn.metrics import classification_report\n",
    "\n",
    "# Huấn luyện mô hình Logistic Regression\n",
    "logistic_regression = LogisticRegression(penalty='l1', solver='liblinear')\n",
    "logistic_regression.fit(X_train_7_3, y_train_7_3)\n",
    "\n",
    "# Dự đoán trên tập kiểm tra\n",
    "y_pred_1 = logistic_regression.predict(X_test_7_3)\n",
    "\n",
    "# Đánh giá mô hình trên tập kiểm tra\n",
    "print(\"Classification Report on Test Set:\")\n",
    "print(classification_report(y_test_7_3, y_pred_1))\n",
    "\n",
    "# Dự đoán trên tập huấn luyện\n",
    "y_train_pred = logistic_regression.predict(X_train_7_3)\n",
    "\n",
    "# Đánh giá mô hình trên tập huấn luyện\n",
    "print(\"Classification Report on Training Set:\")\n",
    "print(classification_report(y_train_7_3, y_train_pred))\n"
   ],
   "id": "353e8d81d102e041",
   "outputs": [
    {
     "name": "stdout",
     "output_type": "stream",
     "text": [
      "Classification Report on Test Set:\n",
      "              precision    recall  f1-score   support\n",
      "\n",
      "           0       1.00      1.00      1.00     30419\n",
      "           1       1.00      1.00      1.00      4273\n",
      "\n",
      "    accuracy                           1.00     34692\n",
      "   macro avg       1.00      1.00      1.00     34692\n",
      "weighted avg       1.00      1.00      1.00     34692\n",
      "\n",
      "Classification Report on Training Set:\n",
      "              precision    recall  f1-score   support\n",
      "\n",
      "           0       1.00      1.00      1.00     71127\n",
      "           1       1.00      1.00      1.00      9821\n",
      "\n",
      "    accuracy                           1.00     80948\n",
      "   macro avg       1.00      1.00      1.00     80948\n",
      "weighted avg       1.00      1.00      1.00     80948\n",
      "\n"
     ]
    },
    {
     "name": "stderr",
     "output_type": "stream",
     "text": [
      "D:\\Machine learning\\.venv\\Lib\\site-packages\\sklearn\\svm\\_base.py:1235: ConvergenceWarning: Liblinear failed to converge, increase the number of iterations.\n",
      "  warnings.warn(\n"
     ]
    }
   ],
   "execution_count": 60
  },
  {
   "metadata": {
    "ExecuteTime": {
     "end_time": "2024-12-14T16:45:00.050669800Z",
     "start_time": "2024-12-14T16:07:09.200900Z"
    }
   },
   "cell_type": "code",
   "source": [
    "from sklearn.linear_model import LogisticRegression\n",
    "logistic_regression = LogisticRegression(penalty='l2', solver='liblinear')\n",
    "logistic_regression.fit(X_train_7_3, y_train_7_3)\n",
    "y_pred_1 = logistic_regression.predict(X_test_7_3)\n",
    "# Đánh giá mô hình\n",
    "\n",
    "print(\"Classification Report:\")\n",
    "print(classification_report(y_test_7_3, y_pred_1))"
   ],
   "id": "ab1931d62e313ad6",
   "outputs": [
    {
     "name": "stdout",
     "output_type": "stream",
     "text": [
      "Classification Report:\n",
      "              precision    recall  f1-score   support\n",
      "\n",
      "           0       1.00      1.00      1.00     30419\n",
      "           1       1.00      0.99      1.00      4273\n",
      "\n",
      "    accuracy                           1.00     34692\n",
      "   macro avg       1.00      1.00      1.00     34692\n",
      "weighted avg       1.00      1.00      1.00     34692\n",
      "\n"
     ]
    }
   ],
   "execution_count": 61
  },
  {
   "metadata": {
    "ExecuteTime": {
     "end_time": "2024-12-14T16:45:00.050669800Z",
     "start_time": "2024-12-14T16:07:09.672633Z"
    }
   },
   "cell_type": "code",
   "source": [
    "from sklearn.linear_model import LogisticRegression\n",
    "logistic_regression = LogisticRegression(penalty='elasticnet', solver='saga', l1_ratio=0.5, max_iter=1000)\n",
    "logistic_regression.fit(X_train_7_3, y_train_7_3)\n",
    "y_pred_1 = logistic_regression.predict(X_test_7_3)\n",
    "# Đánh giá mô hình\n",
    "\n",
    "print(\"Classification Report:\")\n",
    "print(classification_report(y_test_7_3, y_pred_1))"
   ],
   "id": "bf9182d0ec23ce75",
   "outputs": [
    {
     "name": "stdout",
     "output_type": "stream",
     "text": [
      "Classification Report:\n",
      "              precision    recall  f1-score   support\n",
      "\n",
      "           0       1.00      1.00      1.00     30419\n",
      "           1       1.00      1.00      1.00      4273\n",
      "\n",
      "    accuracy                           1.00     34692\n",
      "   macro avg       1.00      1.00      1.00     34692\n",
      "weighted avg       1.00      1.00      1.00     34692\n",
      "\n"
     ]
    }
   ],
   "execution_count": 62
  },
  {
   "metadata": {
    "ExecuteTime": {
     "end_time": "2024-12-14T16:45:00.050669800Z",
     "start_time": "2024-12-14T16:07:14.587241Z"
    }
   },
   "cell_type": "code",
   "source": [
    "from sklearn.preprocessing import StandardScaler\n",
    "from sklearn.linear_model import LogisticRegression\n",
    "from sklearn.metrics import classification_report\n",
    "\n",
    "# Chuẩn hóa dữ liệu\n",
    "scaler = StandardScaler()\n",
    "X_train_scaled = scaler.fit_transform(X_train_7_3)\n",
    "X_test_scaled = scaler.transform(X_test_7_3)\n",
    "\n",
    "# Huấn luyện mô hình Logistic Regression\n",
    "logistic_regression = LogisticRegression()\n",
    "logistic_regression.fit(X_train_scaled, y_train_7_3)\n",
    "\n",
    "# Dự đoán\n",
    "y_pred_1 = logistic_regression.predict(X_test_scaled)\n",
    "\n",
    "# Đánh giá mô hình\n",
    "print(\"Classification Report:\")\n",
    "print(classification_report(y_test_7_3, y_pred_1))"
   ],
   "id": "2218d21c2fdf8f64",
   "outputs": [
    {
     "name": "stdout",
     "output_type": "stream",
     "text": [
      "Classification Report:\n",
      "              precision    recall  f1-score   support\n",
      "\n",
      "           0       1.00      1.00      1.00     30419\n",
      "           1       1.00      1.00      1.00      4273\n",
      "\n",
      "    accuracy                           1.00     34692\n",
      "   macro avg       1.00      1.00      1.00     34692\n",
      "weighted avg       1.00      1.00      1.00     34692\n",
      "\n"
     ]
    }
   ],
   "execution_count": 63
  },
  {
   "metadata": {
    "ExecuteTime": {
     "end_time": "2024-12-14T16:45:00.051675200Z",
     "start_time": "2024-12-14T16:07:14.793317Z"
    }
   },
   "cell_type": "code",
   "source": [
    "from sklearn.naive_bayes import GaussianNB\n",
    "from sklearn.metrics import classification_report, accuracy_score, roc_auc_score, ConfusionMatrixDisplay\n",
    "\n",
    "# Huấn luyện mô hình Naive Bayes\n",
    "gnb = GaussianNB()\n",
    "gnb.fit(X_train_scaled, y_train_7_3)\n",
    "\n",
    "# Dự đoán trên tập kiểm tra\n",
    "y_pred = gnb.predict(X_test_scaled)\n",
    "\n",
    "# Đánh giá mô hình trên tập kiểm tra\n",
    "print(\"Classification Report on Test Set:\")\n",
    "print(classification_report(y_test_7_3, y_pred))\n",
    "\n",
    "# Dự đoán trên tập huấn luyện\n",
    "y_train_pred = gnb.predict(X_train_scaled)\n",
    "\n",
    "# Đánh giá mô hình trên tập huấn luyện\n",
    "print(\"Classification Report on Training Set:\")\n",
    "print(classification_report(y_train_7_3, y_train_pred))"
   ],
   "id": "a62a0ee50d361a87",
   "outputs": [
    {
     "name": "stdout",
     "output_type": "stream",
     "text": [
      "Classification Report on Test Set:\n",
      "              precision    recall  f1-score   support\n",
      "\n",
      "           0       0.97      0.99      0.98     30419\n",
      "           1       0.94      0.79      0.86      4273\n",
      "\n",
      "    accuracy                           0.97     34692\n",
      "   macro avg       0.96      0.89      0.92     34692\n",
      "weighted avg       0.97      0.97      0.97     34692\n",
      "\n",
      "Classification Report on Training Set:\n",
      "              precision    recall  f1-score   support\n",
      "\n",
      "           0       0.97      0.99      0.98     71127\n",
      "           1       0.95      0.80      0.87      9821\n",
      "\n",
      "    accuracy                           0.97     80948\n",
      "   macro avg       0.96      0.90      0.93     80948\n",
      "weighted avg       0.97      0.97      0.97     80948\n",
      "\n"
     ]
    }
   ],
   "execution_count": 64
  }
 ],
 "metadata": {
  "kernelspec": {
   "display_name": "Python 3",
   "language": "python",
   "name": "python3"
  },
  "language_info": {
   "codemirror_mode": {
    "name": "ipython",
    "version": 2
   },
   "file_extension": ".py",
   "mimetype": "text/x-python",
   "name": "python",
   "nbconvert_exporter": "python",
   "pygments_lexer": "ipython2",
   "version": "2.7.6"
  }
 },
 "nbformat": 4,
 "nbformat_minor": 5
}
