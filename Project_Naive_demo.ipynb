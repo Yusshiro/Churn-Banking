{
 "cells": [
  {
   "cell_type": "code",
   "execution_count": 339,
   "metadata": {},
   "outputs": [],
   "source": [
    "# %% Import các thư viện cần thiết\n",
    "import numpy as np\n",
    "import pandas as pd\n",
    "from sklearn.preprocessing import StandardScaler\n",
    "from sklearn.decomposition import PCA\n",
    "from sklearn.discriminant_analysis import LinearDiscriminantAnalysis as LDA\n",
    "from sklearn.naive_bayes import GaussianNB\n",
    "from sklearn.model_selection import train_test_split\n",
    "from sklearn.metrics import classification_report, confusion_matrix, silhouette_score, accuracy_score, ConfusionMatrixDisplay\n",
    "from imblearn.over_sampling import SMOTE\n",
    "import matplotlib.pyplot as plt\n",
    "import seaborn as sns"
   ]
  },
  {
   "cell_type": "code",
   "execution_count": 340,
   "metadata": {},
   "outputs": [],
   "source": [
    "# %% Đọc dữ liệu và tiền xử lý\n",
    "data = pd.read_csv(\"botswana_bank_customer_churn.csv\")"
   ]
  },
  {
   "cell_type": "code",
   "execution_count": 341,
   "metadata": {},
   "outputs": [
    {
     "name": "stdout",
     "output_type": "stream",
     "text": [
      "Thông tin dữ liệu:\n",
      "<class 'pandas.core.frame.DataFrame'>\n",
      "RangeIndex: 115640 entries, 0 to 115639\n",
      "Data columns (total 25 columns):\n",
      " #   Column                           Non-Null Count   Dtype  \n",
      "---  ------                           --------------   -----  \n",
      " 0   RowNumber                        115640 non-null  int64  \n",
      " 1   CustomerId                       115640 non-null  object \n",
      " 2   Surname                          115640 non-null  object \n",
      " 3   First Name                       115640 non-null  object \n",
      " 4   Date of Birth                    115640 non-null  object \n",
      " 5   Gender                           115640 non-null  object \n",
      " 6   Marital Status                   115640 non-null  object \n",
      " 7   Number of Dependents             115640 non-null  int64  \n",
      " 8   Occupation                       115640 non-null  object \n",
      " 9   Income                           115640 non-null  float64\n",
      " 10  Education Level                  115640 non-null  object \n",
      " 11  Address                          115640 non-null  object \n",
      " 12  Contact Information              115640 non-null  object \n",
      " 13  Customer Tenure                  115640 non-null  int64  \n",
      " 14  Customer Segment                 115640 non-null  object \n",
      " 15  Preferred Communication Channel  115640 non-null  object \n",
      " 16  Credit Score                     115640 non-null  int64  \n",
      " 17  Credit History Length            115640 non-null  int64  \n",
      " 18  Outstanding Loans                115640 non-null  float64\n",
      " 19  Churn Flag                       115640 non-null  int64  \n",
      " 20  Churn Reason                     14094 non-null   object \n",
      " 21  Churn Date                       14094 non-null   object \n",
      " 22  Balance                          115640 non-null  float64\n",
      " 23  NumOfProducts                    115640 non-null  int64  \n",
      " 24  NumComplaints                    115640 non-null  int64  \n",
      "dtypes: float64(3), int64(8), object(14)\n",
      "memory usage: 22.1+ MB\n",
      "None\n"
     ]
    }
   ],
   "source": [
    "# Hiển thị thông tin cơ bản\n",
    "print(\"Thông tin dữ liệu:\")\n",
    "print(data.info())"
   ]
  },
  {
   "cell_type": "code",
   "execution_count": 342,
   "metadata": {},
   "outputs": [
    {
     "name": "stdout",
     "output_type": "stream",
     "text": [
      "Số bản ghi: 115640, Số trường: 25\n",
      "\n",
      "Thống kê dữ liệu:\n",
      "                          count           mean           std      min  \\\n",
      "RowNumber              115640.0   57820.500000  33382.536902     1.00   \n",
      "Number of Dependents   115640.0       2.502923      1.707249     0.00   \n",
      "Income                 115640.0   52641.363046  27429.756390  5000.96   \n",
      "Customer Tenure        115640.0      15.490591      8.654217     1.00   \n",
      "Credit Score           115640.0     574.299775    159.067499   300.00   \n",
      "Credit History Length  115640.0      15.546602      8.654630     1.00   \n",
      "Outstanding Loans      115640.0   25502.731792  14127.859827  1000.43   \n",
      "Churn Flag             115640.0       0.121878      0.327147     0.00   \n",
      "Balance                115640.0  124639.209748  72210.476638     1.06   \n",
      "NumOfProducts          115640.0       2.999274      1.411361     1.00   \n",
      "NumComplaints          115640.0       4.991724      3.159283     0.00   \n",
      "\n",
      "                             25%         50%          75%        max  \n",
      "RowNumber              28910.750   57820.500   86730.2500  115640.00  \n",
      "Number of Dependents       1.000       3.000       4.0000       5.00  \n",
      "Income                 28857.070   52658.110   76364.1575   99999.51  \n",
      "Customer Tenure            8.000      15.000      23.0000      30.00  \n",
      "Credit Score             436.000     574.000     712.0000     850.00  \n",
      "Credit History Length      8.000      16.000      23.0000      30.00  \n",
      "Outstanding Loans      13226.060   25505.285   37742.2500   49999.69  \n",
      "Churn Flag                 0.000       0.000       0.0000       1.00  \n",
      "Balance                61991.915  124505.890  187122.9225  249998.91  \n",
      "NumOfProducts              2.000       3.000       4.0000       5.00  \n",
      "NumComplaints              2.000       5.000       8.0000      10.00  \n"
     ]
    }
   ],
   "source": [
    "print(f\"Số bản ghi: {data.shape[0]}, Số trường: {data.shape[1]}\")\n",
    "print(\"\\nThống kê dữ liệu:\")\n",
    "print(data.describe().T)"
   ]
  },
  {
   "cell_type": "code",
   "execution_count": 343,
   "metadata": {},
   "outputs": [
    {
     "name": "stdout",
     "output_type": "stream",
     "text": [
      "   RowNumber                            CustomerId   Surname First Name  \\\n",
      "0          1  83ef0b54-35f6-4f84-af58-5653ac0c0dc4     Smith       Troy   \n",
      "1          2  009f115a-e5ca-4cf4-97d6-530140545e4e  Sullivan    Katrina   \n",
      "2          3  66309fd3-5009-44d3-a3f7-1657c869d573    Fuller      Henry   \n",
      "3          4  b02a30df-1a5f-4087-8075-2a35432da641     Young    Antonio   \n",
      "4          5  0d932e5b-bb3a-4104-8c83-f84270f7f2ea  Andersen       John   \n",
      "\n",
      "  Date of Birth  Gender Marital Status  Number of Dependents  \\\n",
      "0     8/29/1987    Male       Divorced                     3   \n",
      "1      2/7/2000  Female        Married                     1   \n",
      "2      2/3/1954  Female         Single                     1   \n",
      "3     1/15/1991  Female       Divorced                     5   \n",
      "4      4/8/1992  Female       Divorced                     2   \n",
      "\n",
      "                        Occupation    Income  ...  \\\n",
      "0      Information systems manager  77710.14  ...   \n",
      "1               Charity fundraiser  58209.87  ...   \n",
      "2  Television production assistant   9794.01  ...   \n",
      "3            Agricultural engineer  15088.98  ...   \n",
      "4         Teacher, early years/pre  60726.56  ...   \n",
      "\n",
      "  Preferred Communication Channel Credit Score Credit History Length  \\\n",
      "0                           Phone          397                    24   \n",
      "1                           Email          665                    10   \n",
      "2                           Email          715                    21   \n",
      "3                           Phone          747                    17   \n",
      "4                           Email          549                    25   \n",
      "\n",
      "   Outstanding Loans Churn Flag Churn Reason  Churn Date    Balance  \\\n",
      "0           41959.74          0          NaN         NaN  211359.05   \n",
      "1            8916.67          0          NaN         NaN   30624.76   \n",
      "2           43270.54          0          NaN         NaN  111956.61   \n",
      "3           17887.65          0          NaN         NaN  201187.61   \n",
      "4           32686.84          0          NaN         NaN   60391.24   \n",
      "\n",
      "   NumOfProducts  NumComplaints  \n",
      "0              1              0  \n",
      "1              4              1  \n",
      "2              2              6  \n",
      "3              1              0  \n",
      "4              5              6  \n",
      "\n",
      "[5 rows x 25 columns]\n"
     ]
    }
   ],
   "source": [
    "print(data.head())"
   ]
  },
  {
   "cell_type": "code",
   "execution_count": 344,
   "metadata": {},
   "outputs": [
    {
     "name": "stdout",
     "output_type": "stream",
     "text": [
      "Missing values:\n",
      "RowNumber                               0\n",
      "CustomerId                              0\n",
      "Surname                                 0\n",
      "First Name                              0\n",
      "Date of Birth                           0\n",
      "Gender                                  0\n",
      "Marital Status                          0\n",
      "Number of Dependents                    0\n",
      "Occupation                              0\n",
      "Income                                  0\n",
      "Education Level                         0\n",
      "Address                                 0\n",
      "Contact Information                     0\n",
      "Customer Tenure                         0\n",
      "Customer Segment                        0\n",
      "Preferred Communication Channel         0\n",
      "Credit Score                            0\n",
      "Credit History Length                   0\n",
      "Outstanding Loans                       0\n",
      "Churn Flag                              0\n",
      "Churn Reason                       101546\n",
      "Churn Date                         101546\n",
      "Balance                                 0\n",
      "NumOfProducts                           0\n",
      "NumComplaints                           0\n",
      "dtype: int64\n"
     ]
    }
   ],
   "source": [
    "# Kiểm tra missing values\n",
    "missing_values = data.isnull().sum()\n",
    "print(\"Missing values:\")\n",
    "print(missing_values)"
   ]
  },
  {
   "cell_type": "code",
   "execution_count": 345,
   "metadata": {},
   "outputs": [],
   "source": [
    "# Xử lý giá trị thiếu\n",
    "numerical_cols = data.select_dtypes(include=[np.number]).columns\n",
    "data[numerical_cols] = data[numerical_cols].fillna(data[numerical_cols].median())\n",
    "\n",
    "if \"Date of Birth\" in data.columns:\n",
    "    data[\"Date of Birth\"] = pd.to_datetime(data[\"Date of Birth\"], errors=\"coerce\")\n",
    "    data[\"Age\"] = (pd.to_datetime(\"today\") - data[\"Date of Birth\"]).dt.days // 365\n",
    "    data.drop(columns=[\"Date of Birth\"], inplace=True)"
   ]
  },
  {
   "cell_type": "code",
   "execution_count": 346,
   "metadata": {},
   "outputs": [],
   "source": [
    "# Loại bỏ các cột không cần thiết\n",
    "columns_to_drop = [\n",
    "    'RowNumber', 'CustomerId', 'Surname', 'First Name',\n",
    "    'Occupation', 'Address', 'Contact Information',\n",
    "    'Churn Reason', 'Churn Date'\n",
    "]\n",
    "data.drop(columns=[col for col in columns_to_drop if col in data.columns], inplace=True)"
   ]
  },
  {
   "cell_type": "code",
   "execution_count": 347,
   "metadata": {},
   "outputs": [],
   "source": [
    "# %% Mã hóa các trường phân loại\n",
    "categorical_cols = [\"Gender\", \"Marital Status\", \"Education Level\", \"Customer Segment\", \"Preferred Communication Channel\"]\n",
    "data = pd.get_dummies(data, columns=categorical_cols, drop_first=True)\n",
    "\n",
    "# %% Chuẩn hóa các trường liên tục\n",
    "continuous_cols = [\"Income\", \"Balance\", \"Outstanding Loans\", \"Credit Score\", \"Customer Tenure\", \"Credit History Length\", \"Age\"]\n",
    "scaler = StandardScaler()\n",
    "data[continuous_cols] = scaler.fit_transform(data[continuous_cols])"
   ]
  },
  {
   "cell_type": "code",
   "execution_count": 348,
   "metadata": {},
   "outputs": [
    {
     "name": "stdout",
     "output_type": "stream",
     "text": [
      "   Number of Dependents    Income  Customer Tenure  Credit Score  \\\n",
      "0                     3  0.913930         1.676578     -1.114625   \n",
      "1                     1  0.203011         1.329925      0.570202   \n",
      "2                     1 -1.562082        -0.172239      0.884535   \n",
      "3                     5 -1.369044         0.867720      1.085709   \n",
      "4                     2  0.294761         0.752169     -0.159051   \n",
      "\n",
      "   Credit History Length  Outstanding Loans  Churn Flag   Balance  \\\n",
      "0               0.976753           1.164867           0  1.200937   \n",
      "1              -0.640885          -1.174002           0 -1.301956   \n",
      "2               0.630116           1.257649           0 -0.175635   \n",
      "3               0.167934          -0.539014           0  1.060078   \n",
      "4               1.092298           0.508509           0 -0.889736   \n",
      "\n",
      "   NumOfProducts  NumComplaints       Age  Gender_Male  \\\n",
      "0              1              0 -0.589943         True   \n",
      "1              4              1 -1.367175        False   \n",
      "2              2              6  1.383031        False   \n",
      "3              1              0 -0.829091        False   \n",
      "4              5              6 -0.888878        False   \n",
      "\n",
      "   Marital Status_Married  Marital Status_Single  Education Level_Diploma  \\\n",
      "0                   False                  False                    False   \n",
      "1                    True                  False                    False   \n",
      "2                   False                   True                    False   \n",
      "3                   False                  False                    False   \n",
      "4                   False                  False                    False   \n",
      "\n",
      "   Education Level_High School  Education Level_Master's  \\\n",
      "0                         True                     False   \n",
      "1                         True                     False   \n",
      "2                         True                     False   \n",
      "3                         True                     False   \n",
      "4                        False                      True   \n",
      "\n",
      "   Customer Segment_Retail  Customer Segment_SME  \\\n",
      "0                     True                 False   \n",
      "1                    False                  True   \n",
      "2                     True                 False   \n",
      "3                    False                 False   \n",
      "4                    False                 False   \n",
      "\n",
      "   Preferred Communication Channel_Phone  \n",
      "0                                   True  \n",
      "1                                  False  \n",
      "2                                  False  \n",
      "3                                   True  \n",
      "4                                  False  \n"
     ]
    }
   ],
   "source": [
    "# Hiển thị dữ liệu đã chuẩn hóa\n",
    "print(data.head())"
   ]
  },
  {
   "cell_type": "code",
   "execution_count": 349,
   "metadata": {},
   "outputs": [],
   "source": [
    "# Tách dữ liệu và nhãn\n",
    "X = data.drop(\"Churn Flag\", axis=1)\n",
    "y = data[\"Churn Flag\"]"
   ]
  },
  {
   "cell_type": "code",
   "execution_count": 350,
   "metadata": {},
   "outputs": [
    {
     "name": "stdout",
     "output_type": "stream",
     "text": [
      "\n",
      "Cân bằng dữ liệu bằng SMOTE...\n"
     ]
    }
   ],
   "source": [
    "# %% Cân bằng dữ liệu bằng SMOTE nếu cần\n",
    "if y.value_counts(normalize=True).min() < 0.4:\n",
    "    print(\"\\nCân bằng dữ liệu bằng SMOTE...\")\n",
    "    smote = SMOTE(random_state=42)\n",
    "    X, y = smote.fit_resample(X, y)"
   ]
  },
  {
   "cell_type": "code",
   "execution_count": 351,
   "metadata": {},
   "outputs": [
    {
     "name": "stdout",
     "output_type": "stream",
     "text": [
      "\n",
      "Phương sai giải thích bởi PCA:\n",
      "[0.41292131 0.5380573  0.62467921 0.67128228 0.71291005 0.75432958\n",
      " 0.79552397 0.83645007 0.87677021 0.9121658 ]\n"
     ]
    },
    {
     "data": {
      "image/png": "[encoded data removed]",
      "text/plain": [
       "<Figure size 1000x600 with 1 Axes>"
      ]
     },
     "metadata": {},
     "output_type": "display_data"
    },
    {
     "name": "stdout",
     "output_type": "stream",
     "text": [
      "Phương sai giải thích bởi PCA: [0.41292131 0.125136   0.0866219  0.04660307 0.04162778 0.04141953\n",
      " 0.04119439 0.04092611 0.04032013 0.0353956 ]\n",
      "Tổng phương sai giữ lại: 0.9121658049583408\n"
     ]
    }
   ],
   "source": [
    "# %% Giảm chiều với PCA\n",
    "pca = PCA(n_components=0.9)  # Giữ lại 90% phương sai\n",
    "X_pca = pca.fit_transform(X)\n",
    "explained_variance = pca.explained_variance_ratio_\n",
    "print(\"\\nPhương sai giải thích bởi PCA:\")\n",
    "print(np.cumsum(pca.explained_variance_ratio_))\n",
    "\n",
    "# Biểu đồ phương sai tích lũy\n",
    "plt.figure(figsize=(10, 6))\n",
    "plt.plot(np.cumsum(explained_variance), marker=\"o\")\n",
    "plt.xlabel(\"Number of Components\")\n",
    "plt.ylabel(\"Cumulative Explained Variance\")\n",
    "plt.title(\"Cumulative Explained Variance by PCA Components\")\n",
    "plt.show()\n",
    "\n",
    "# In tổng phương sai giữ lại\n",
    "print(\"Phương sai giải thích bởi PCA:\", explained_variance)\n",
    "print(\"Tổng phương sai giữ lại:\", sum(explained_variance))\n"
   ]
  },
  {
   "cell_type": "code",
   "execution_count": 352,
   "metadata": {},
   "outputs": [
    {
     "data": {
      "image/png": "[encoded data removed]",
      "text/plain": [
       "<Figure size 1000x600 with 2 Axes>"
      ]
     },
     "metadata": {},
     "output_type": "display_data"
    }
   ],
   "source": [
    "# %% Giảm chiều với LDA\n",
    "lda = LDA(n_components=1)\n",
    "X_lda = lda.fit_transform(X, y)\n",
    "\n",
    "plt.figure(figsize=(10, 6))\n",
    "plt.scatter(X_lda[:, 0], [0] * len(X_lda), c=y, cmap=\"viridis\", alpha=0.5)\n",
    "plt.title(\"LDA Visualization\")\n",
    "plt.colorbar(label=\"Churn Flag\")\n",
    "plt.xlabel(\"Linear Discriminant 1\")\n",
    "plt.show()\n"
   ]
  },
  {
   "cell_type": "code",
   "execution_count": 353,
   "metadata": {},
   "outputs": [],
   "source": [
    "# %% Hàm phân loại sử dụng Gaussian Naive Bayes\n",
    "def gaussian_naive_bayes(X_transformed, y, name=\"Gaussian Naive Bayes\"):\n",
    "    \"\"\"Áp dụng GaussianNB trên dữ liệu.\"\"\"\n",
    "    splits = [(0.8, 0.2), (0.7, 0.3), (0.6, 0.4)]\n",
    "    print(f\"\\nPhân loại với {name}:\")\n",
    "\n",
    "    results = {}\n",
    "    for train_size, test_size in splits:\n",
    "        # Chia dữ liệu train-test\n",
    "        X_train, X_test, y_train, y_test = train_test_split(\n",
    "            X_transformed, y, train_size=train_size, random_state=42\n",
    "        )\n",
    "\n",
    "        # Huấn luyện GaussianNB\n",
    "        model = GaussianNB()\n",
    "        model.fit(X_train, y_train)\n",
    "\n",
    "        y_pred = model.predict(X_test)\n",
    "\n",
    "        # Đánh giá mô hình\n",
    "        train_accuracy = accuracy_score(y_train, model.predict(X_train))\n",
    "        test_accuracy = accuracy_score(y_test, y_pred)\n",
    "        print(f\"\\nTrain-Test Split: {train_size*100}-{test_size*100}\")\n",
    "        print(\"Classification Report:\")\n",
    "        print(classification_report(y_test, y_pred))\n",
    "        print(\"Confusion Matrix:\")\n",
    "        print(confusion_matrix(y_test, y_pred))\n",
    "\n",
    "        results[f\"{train_size*100}-{test_size*100}\"] = {\n",
    "            \"Train Accuracy\": train_accuracy,\n",
    "            \"Test Accuracy\": test_accuracy\n",
    "        }\n",
    "\n",
    "    return results"
   ]
  },
  {
   "cell_type": "code",
   "execution_count": 354,
   "metadata": {},
   "outputs": [
    {
     "name": "stdout",
     "output_type": "stream",
     "text": [
      "\n",
      "Phân loại với Dữ liệu gốc:\n",
      "\n",
      "Train-Test Split: 80.0-20.0\n",
      "Classification Report:\n",
      "              precision    recall  f1-score   support\n",
      "\n",
      "           0       0.98      0.90      0.94     20253\n",
      "           1       0.91      0.98      0.94     20366\n",
      "\n",
      "    accuracy                           0.94     40619\n",
      "   macro avg       0.94      0.94      0.94     40619\n",
      "weighted avg       0.94      0.94      0.94     40619\n",
      "\n",
      "Confusion Matrix:\n",
      "[[18210  2043]\n",
      " [  336 20030]]\n",
      "\n",
      "Train-Test Split: 70.0-30.0\n",
      "Classification Report:\n",
      "              precision    recall  f1-score   support\n",
      "\n",
      "           0       0.98      0.90      0.94     30380\n",
      "           1       0.91      0.98      0.94     30548\n",
      "\n",
      "    accuracy                           0.94     60928\n",
      "   macro avg       0.94      0.94      0.94     60928\n",
      "weighted avg       0.94      0.94      0.94     60928\n",
      "\n",
      "Confusion Matrix:\n",
      "[[27281  3099]\n",
      " [  500 30048]]\n",
      "\n",
      "Train-Test Split: 60.0-40.0\n",
      "Classification Report:\n",
      "              precision    recall  f1-score   support\n",
      "\n",
      "           0       0.98      0.90      0.94     40404\n",
      "           1       0.91      0.98      0.94     40833\n",
      "\n",
      "    accuracy                           0.94     81237\n",
      "   macro avg       0.94      0.94      0.94     81237\n",
      "weighted avg       0.94      0.94      0.94     81237\n",
      "\n",
      "Confusion Matrix:\n",
      "[[36305  4099]\n",
      " [  677 40156]]\n"
     ]
    }
   ],
   "source": [
    "# Phân loại với dữ liệu gốc\n",
    "results_original = gaussian_naive_bayes(X, y, name=\"Dữ liệu gốc\")\n"
   ]
  },
  {
   "cell_type": "code",
   "execution_count": 355,
   "metadata": {},
   "outputs": [
    {
     "name": "stdout",
     "output_type": "stream",
     "text": [
      "\n",
      "Phân loại với Dữ liệu PCA:\n",
      "\n",
      "Train-Test Split: 80.0-20.0\n",
      "Classification Report:\n",
      "              precision    recall  f1-score   support\n",
      "\n",
      "           0       0.96      0.87      0.91     20253\n",
      "           1       0.89      0.96      0.92     20366\n",
      "\n",
      "    accuracy                           0.92     40619\n",
      "   macro avg       0.92      0.92      0.92     40619\n",
      "weighted avg       0.92      0.92      0.92     40619\n",
      "\n",
      "Confusion Matrix:\n",
      "[[17714  2539]\n",
      " [  755 19611]]\n",
      "\n",
      "Train-Test Split: 70.0-30.0\n",
      "Classification Report:\n",
      "              precision    recall  f1-score   support\n",
      "\n",
      "           0       0.96      0.88      0.91     30380\n",
      "           1       0.89      0.96      0.92     30548\n",
      "\n",
      "    accuracy                           0.92     60928\n",
      "   macro avg       0.92      0.92      0.92     60928\n",
      "weighted avg       0.92      0.92      0.92     60928\n",
      "\n",
      "Confusion Matrix:\n",
      "[[26603  3777]\n",
      " [ 1234 29314]]\n",
      "\n",
      "Train-Test Split: 60.0-40.0\n",
      "Classification Report:\n",
      "              precision    recall  f1-score   support\n",
      "\n",
      "           0       0.96      0.88      0.91     40404\n",
      "           1       0.89      0.96      0.92     40833\n",
      "\n",
      "    accuracy                           0.92     81237\n",
      "   macro avg       0.92      0.92      0.92     81237\n",
      "weighted avg       0.92      0.92      0.92     81237\n",
      "\n",
      "Confusion Matrix:\n",
      "[[35424  4980]\n",
      " [ 1638 39195]]\n"
     ]
    }
   ],
   "source": [
    "# Phân loại với dữ liệu PCA\n",
    "results_pca = gaussian_naive_bayes(X_pca, y, name=\"Dữ liệu PCA\")"
   ]
  },
  {
   "cell_type": "code",
   "execution_count": 356,
   "metadata": {},
   "outputs": [
    {
     "name": "stdout",
     "output_type": "stream",
     "text": [
      "\n",
      "Phân loại với Dữ liệu LDA:\n",
      "\n",
      "Train-Test Split: 80.0-20.0\n",
      "Classification Report:\n",
      "              precision    recall  f1-score   support\n",
      "\n",
      "           0       0.99      0.95      0.97     20253\n",
      "           1       0.95      0.99      0.97     20366\n",
      "\n",
      "    accuracy                           0.97     40619\n",
      "   macro avg       0.97      0.97      0.97     40619\n",
      "weighted avg       0.97      0.97      0.97     40619\n",
      "\n",
      "Confusion Matrix:\n",
      "[[19282   971]\n",
      " [  196 20170]]\n",
      "\n",
      "Train-Test Split: 70.0-30.0\n",
      "Classification Report:\n",
      "              precision    recall  f1-score   support\n",
      "\n",
      "           0       0.99      0.95      0.97     30380\n",
      "           1       0.95      0.99      0.97     30548\n",
      "\n",
      "    accuracy                           0.97     60928\n",
      "   macro avg       0.97      0.97      0.97     60928\n",
      "weighted avg       0.97      0.97      0.97     60928\n",
      "\n",
      "Confusion Matrix:\n",
      "[[28936  1444]\n",
      " [  298 30250]]\n",
      "\n",
      "Train-Test Split: 60.0-40.0\n",
      "Classification Report:\n",
      "              precision    recall  f1-score   support\n",
      "\n",
      "           0       0.99      0.95      0.97     40404\n",
      "           1       0.95      0.99      0.97     40833\n",
      "\n",
      "    accuracy                           0.97     81237\n",
      "   macro avg       0.97      0.97      0.97     81237\n",
      "weighted avg       0.97      0.97      0.97     81237\n",
      "\n",
      "Confusion Matrix:\n",
      "[[38493  1911]\n",
      " [  420 40413]]\n"
     ]
    }
   ],
   "source": [
    "# Phân loại với dữ liệu LDA\n",
    "results_lda = gaussian_naive_bayes(X_lda, y, name=\"Dữ liệu LDA\")"
   ]
  }
 ],
 "metadata": {
  "kernelspec": {
   "display_name": "Python 3",
   "language": "python",
   "name": "python3"
  },
  "language_info": {
   "codemirror_mode": {
    "name": "ipython",
    "version": 3
   },
   "file_extension": ".py",
   "mimetype": "text/x-python",
   "name": "python",
   "nbconvert_exporter": "python",
   "pygments_lexer": "ipython3",
   "version": "3.12.8"
  }
 },
 "nbformat": 4,
 "nbformat_minor": 2
}
